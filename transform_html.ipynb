{
 "cells": [
  {
   "cell_type": "code",
   "execution_count": 37,
   "metadata": {},
   "outputs": [],
   "source": [
    "import bs4\n",
    "import tqdm\n",
    "import glob"
   ]
  },
  {
   "cell_type": "code",
   "execution_count": 38,
   "metadata": {},
   "outputs": [],
   "source": [
    "def read_file(file):\n",
    "    with open(file,\"r\") as f:\n",
    "        soup = bs4.BeautifulSoup(f.read(),features=\"lxml\")\n",
    "    return soup"
   ]
  },
  {
   "cell_type": "code",
   "execution_count": 39,
   "metadata": {},
   "outputs": [],
   "source": [
    "def is_index_or_header(file):\n",
    "    return file in [\"docs/index.html\",\"docs/header.html\"]"
   ]
  },
  {
   "cell_type": "code",
   "execution_count": 40,
   "metadata": {},
   "outputs": [],
   "source": [
    "def format_last_updated(soup):\n",
    "    p = soup.select(\".dateGenerated\")[0]\n",
    "    p.string = f\"Last updated on {p.text.strip().split('on')[1]}\""
   ]
  },
  {
   "cell_type": "code",
   "execution_count": 50,
   "metadata": {},
   "outputs": [],
   "source": [
    "def make_search_button_clickable(soup):\n",
    "    return"
   ]
  },
  {
   "cell_type": "code",
   "execution_count": 41,
   "metadata": {},
   "outputs": [],
   "source": [
    "def is_book(file):\n",
    "    # checking if path contains docs/book_0\n",
    "    return file.find(\"docs/book_0/\") != -1"
   ]
  },
  {
   "cell_type": "code",
   "execution_count": 42,
   "metadata": {},
   "outputs": [],
   "source": [
    "def fix_book_title(soup):\n",
    "    author_t = \" div.fullEntry_title > h1 > small > em > small > em > a\"\n",
    "    title_t = \" div.fullEntry_title > h1\"\n",
    "    p = soup.select(\".x_container\")[0]\n",
    "    author = p.select(author_t)[0].text\n",
    "    title = p.select(title_t)[0].text.split(\"\\n\")[1].strip()\n",
    "    soup.head.title.string = f\"{title}, By {author} | {soup.head.title.string}\""
   ]
  },
  {
   "cell_type": "code",
   "execution_count": 52,
   "metadata": {},
   "outputs": [],
   "source": [
    "def is_author(file):\n",
    "    # checking if path contains docs/author_0/\n",
    "    return file.find(\"docs/author_0/\") != -1  "
   ]
  },
  {
   "cell_type": "code",
   "execution_count": 53,
   "metadata": {},
   "outputs": [],
   "source": [
    "def fix_author_title(soup):\n",
    "    pass"
   ]
  },
  {
   "cell_type": "code",
   "execution_count": 43,
   "metadata": {},
   "outputs": [],
   "source": [
    "def is_html(file):\n",
    "    # checking last four chars of extention\n",
    "    return file[-4:]==\"html\" "
   ]
  },
  {
   "cell_type": "code",
   "execution_count": 44,
   "metadata": {},
   "outputs": [],
   "source": [
    "def add_analytics(soup):\n",
    "    analytics_code = '''<!-- Global site tag (gtag.js) - Google Analytics -->\n",
    "                    <script async src=\"https://www.googletagmanager.com/gtag/js?id=UA-101184475-7\"></script>\n",
    "                    <script>\n",
    "                      window.dataLayer = window.dataLayer || [];\n",
    "                      function gtag(){dataLayer.push(arguments);}\n",
    "                      gtag('js', new Date());\n",
    "\n",
    "                      gtag('config', 'UA-101184475-7');\n",
    "                    </script>'''\n",
    "    #print(\"add_analytics incomplete\")\n",
    "    return"
   ]
  },
  {
   "cell_type": "code",
   "execution_count": 45,
   "metadata": {},
   "outputs": [],
   "source": [
    "def remove_footer(soup):\n",
    "    soup.find(id=\"footer\").decompose()"
   ]
  },
  {
   "cell_type": "code",
   "execution_count": 46,
   "metadata": {},
   "outputs": [],
   "source": [
    "def write_file(file,soup):\n",
    "    with open(file,\"w\") as f:\n",
    "        f.write(str(soup))   "
   ]
  },
  {
   "cell_type": "code",
   "execution_count": 47,
   "metadata": {},
   "outputs": [],
   "source": [
    "files = list(glob.glob(\"docs/*/*.html\"))\n",
    "files.extend(glob.glob(\"docs/*.html\"))"
   ]
  },
  {
   "cell_type": "code",
   "execution_count": 48,
   "metadata": {},
   "outputs": [
    {
     "name": "stderr",
     "output_type": "stream",
     "text": [
      "100%|██████████| 881/881 [00:07<00:00, 120.03it/s]\n"
     ]
    }
   ],
   "source": [
    "for f in tqdm.tqdm(files):\n",
    "    errs = []\n",
    "    s = read_file(f)\n",
    "    \n",
    "    if is_index_or_header(f):\n",
    "        try:\n",
    "            format_last_updated(s)\n",
    "            if f == \"docs/index.html\":\n",
    "                make_search_button_clickable(s)\n",
    "        except Exception as e:\n",
    "            errs.append((\"failed format_last_updated\",e))\n",
    "    \n",
    "    if is_book(f):\n",
    "        try:\n",
    "            fix_book_title(s)\n",
    "        except Exception as e:\n",
    "            errs.append((\"failed fix_book_title\",e))\n",
    "    \n",
    "    if is_author(f):\n",
    "        try:\n",
    "            fix_author_title(s)\n",
    "        except Exception as e:\n",
    "            errs.append((\"failed fix_author_title\",e))\n",
    "        \n",
    "    \n",
    "    if is_html(f):\n",
    "        try:\n",
    "            add_analytics(s)\n",
    "        except Exception as e:\n",
    "            errs.append((\"failed add_analytics\",e))\n",
    "            \n",
    "        if f not in  [\"docs/search/search.html\",\"docs/header.html\"]:\n",
    "            try:\n",
    "                remove_footer(s)\n",
    "            except Exception as e:\n",
    "                errs.append((\"failed remove_footer\",e))\n",
    "       \n",
    "    \n",
    "    if len(errs) == 0:\n",
    "        write_file(f,s)\n",
    "    else:\n",
    "        print(f\"Failed {f}\",errs)\n",
    "        "
   ]
  }
 ],
 "metadata": {
  "kernelspec": {
   "display_name": "Python 3",
   "language": "python",
   "name": "python3"
  },
  "language_info": {
   "codemirror_mode": {
    "name": "ipython",
    "version": 3
   },
   "file_extension": ".py",
   "mimetype": "text/x-python",
   "name": "python",
   "nbconvert_exporter": "python",
   "pygments_lexer": "ipython3",
   "version": "3.6.9"
  }
 },
 "nbformat": 4,
 "nbformat_minor": 4
}
