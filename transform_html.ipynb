{
 "cells": [
  {
   "cell_type": "code",
   "execution_count": 1,
   "metadata": {},
   "outputs": [],
   "source": [
    "import os\n",
    "import bs4\n",
    "import tqdm\n",
    "import glob\n",
    "from itertools import chain"
   ]
  },
  {
   "cell_type": "code",
   "execution_count": null,
   "metadata": {},
   "outputs": [],
   "source": [
    "<p class=\"dateGenerated\">\n",
    "    <small>calibre2opds 3.5  (rev. 369): Catalog generated on Apr 4, 2020  (406 books)</small>\n",
    "</p>"
   ]
  },
  {
   "cell_type": "code",
   "execution_count": 20,
   "metadata": {},
   "outputs": [],
   "source": [
    "files = glob.glob(\"docs/*.html\")"
   ]
  },
  {
   "cell_type": "code",
   "execution_count": 21,
   "metadata": {},
   "outputs": [],
   "source": [
    "files = [files[0]]"
   ]
  },
  {
   "cell_type": "code",
   "execution_count": 22,
   "metadata": {},
   "outputs": [
    {
     "name": "stderr",
     "output_type": "stream",
     "text": [
      "100%|██████████| 1/1 [00:00<00:00, 453.14it/s]"
     ]
    },
    {
     "name": "stdout",
     "output_type": "stream",
     "text": [
      "error formatting last updated docs/header.html 'NoneType' object has no attribute 'decompose'\n"
     ]
    },
    {
     "name": "stderr",
     "output_type": "stream",
     "text": [
      "\n"
     ]
    }
   ],
   "source": [
    "for file in tqdm.tqdm(files):\n",
    "    try:    \n",
    "        with open(file,\"r\") as f:\n",
    "            soup = bs4.BeautifulSoup(f.read(),features=\"lxml\")\n",
    "            p = soup.select(\".dateGenerated > small\")[0]\n",
    "            p.string = f\"Last updated on {p.string.split('on')[1]}\"\n",
    "#         with open(file,\"w\") as f:    \n",
    "#             f.write(str(soup))\n",
    "    except Exception as e:\n",
    "        print(f\"error formatting last updated {file}\",e)"
   ]
  },
  {
   "cell_type": "code",
   "execution_count": 39,
   "metadata": {},
   "outputs": [],
   "source": []
  },
  {
   "cell_type": "code",
   "execution_count": 40,
   "metadata": {},
   "outputs": [
    {
     "data": {
      "text/plain": [
       "<!DOCTYPE html PUBLIC \"-//W3c//DTD html 4.01//EN\" \"http://www.w3c.org/tr/html4/strict.dtd\">\n",
       "<html><body><p class=\"dateGenerated\">\n",
       "<small>Last updated on  Apr 4, 2020  (406 books)</small>\n",
       "</p>\n",
       "</body></html>"
      ]
     },
     "execution_count": 40,
     "metadata": {},
     "output_type": "execute_result"
    }
   ],
   "source": [
    "soup"
   ]
  },
  {
   "cell_type": "code",
   "execution_count": 5,
   "metadata": {},
   "outputs": [
    {
     "name": "stdout",
     "output_type": "stream",
     "text": [
      "Deleting all other footers\n"
     ]
    }
   ],
   "source": [
    "print(\"Deleting footers\")"
   ]
  },
  {
   "cell_type": "code",
   "execution_count": 7,
   "metadata": {},
   "outputs": [
    {
     "name": "stderr",
     "output_type": "stream",
     "text": [
      "100%|██████████| 881/881 [00:05<00:00, 156.18it/s]\n"
     ]
    }
   ],
   "source": [
    "#files = chain(glob.glob(\"docs/*/*.html\"), glob.glob(\"docs/*.html\"))\n",
    "files = list(glob.glob(\"docs/*/*.html\"))\n",
    "files.extend(glob.glob(\"docs/*.html\"))\n",
    "for file in tqdm.tqdm(files):\n",
    "    try:    \n",
    "        with open(file,\"r\") as f:\n",
    "            soup = bs4.BeautifulSoup(f.read(),features=\"lxml\")\n",
    "            soup.find(id=\"footer\").decompose()\n",
    "        with open(file,\"w\") as f:    \n",
    "            f.write(str(soup))\n",
    "    except Exception as e:\n",
    "        if file not in  [\"docs/search/search.html\",\"docs/header.html\"]:\n",
    "            print(f\"error deleting footer html {file}\",e)"
   ]
  },
  {
   "cell_type": "code",
   "execution_count": 8,
   "metadata": {},
   "outputs": [
    {
     "name": "stdout",
     "output_type": "stream",
     "text": [
      "Fixing Title\n"
     ]
    }
   ],
   "source": [
    "print(\"Fixing Titles\")"
   ]
  },
  {
   "cell_type": "code",
   "execution_count": 9,
   "metadata": {},
   "outputs": [],
   "source": [
    "file_path  = [f\"./docs/book_0/{i}\" for i in os.listdir(\"docs/book_0\") if i[-4:]==\"html\"]"
   ]
  },
  {
   "cell_type": "code",
   "execution_count": 10,
   "metadata": {},
   "outputs": [],
   "source": [
    "author_t = \" div.fullEntry_title > h1 > small > em > small > em > a\"\n",
    "title_t = \" div.fullEntry_title > h1\""
   ]
  },
  {
   "cell_type": "code",
   "execution_count": 11,
   "metadata": {},
   "outputs": [],
   "source": [
    "file = file_path[1]"
   ]
  },
  {
   "cell_type": "code",
   "execution_count": 12,
   "metadata": {},
   "outputs": [
    {
     "name": "stderr",
     "output_type": "stream",
     "text": [
      "  5%|▌         | 21/406 [00:00<00:03, 100.00it/s]"
     ]
    },
    {
     "name": "stdout",
     "output_type": "stream",
     "text": [
      "error: html ./docs/book_0/book_725.html 'NoneType' object has no attribute 'decompose' ./docs/book_0/book_725.html\n",
      "error: html ./docs/book_0/book_540.html 'NoneType' object has no attribute 'decompose' ./docs/book_0/book_540.html\n",
      "error: html ./docs/book_0/book_27.html 'NoneType' object has no attribute 'decompose' ./docs/book_0/book_27.html\n",
      "error: html ./docs/book_0/book_752.html 'NoneType' object has no attribute 'decompose' ./docs/book_0/book_752.html\n",
      "error: html ./docs/book_0/book_149.html 'NoneType' object has no attribute 'decompose' ./docs/book_0/book_149.html\n",
      "error: html ./docs/book_0/book_689.html 'NoneType' object has no attribute 'decompose' ./docs/book_0/book_689.html\n",
      "error: html ./docs/book_0/book_112.html 'NoneType' object has no attribute 'decompose' ./docs/book_0/book_112.html\n",
      "error: html ./docs/book_0/book_624.html 'NoneType' object has no attribute 'decompose' ./docs/book_0/book_624.html\n",
      "error: html ./docs/book_0/book_661.html 'NoneType' object has no attribute 'decompose' ./docs/book_0/book_661.html\n",
      "error: html ./docs/book_0/book_547.html 'NoneType' object has no attribute 'decompose' ./docs/book_0/book_547.html\n",
      "error: html ./docs/book_0/book_394.html 'NoneType' object has no attribute 'decompose' ./docs/book_0/book_394.html\n",
      "error: html ./docs/book_0/book_67.html 'NoneType' object has no attribute 'decompose' ./docs/book_0/book_67.html\n",
      "error: html ./docs/book_0/book_570.html 'NoneType' object has no attribute 'decompose' ./docs/book_0/book_570.html\n",
      "error: html ./docs/book_0/book_588.html 'NoneType' object has no attribute 'decompose' ./docs/book_0/book_588.html\n",
      "error: html ./docs/book_0/book_690.html 'NoneType' object has no attribute 'decompose' ./docs/book_0/book_690.html\n",
      "error: html ./docs/book_0/book_603.html 'NoneType' object has no attribute 'decompose' ./docs/book_0/book_603.html\n",
      "error: html ./docs/book_0/book_583.html 'NoneType' object has no attribute 'decompose' ./docs/book_0/book_583.html\n",
      "error: html ./docs/book_0/book_608.html 'NoneType' object has no attribute 'decompose' ./docs/book_0/book_608.html\n",
      "error: html ./docs/book_0/book_463.html 'NoneType' object has no attribute 'decompose' ./docs/book_0/book_463.html\n",
      "error: html ./docs/book_0/book_488.html 'NoneType' object has no attribute 'decompose' ./docs/book_0/book_488.html\n",
      "error: html ./docs/book_0/book_399.html 'NoneType' object has no attribute 'decompose' ./docs/book_0/book_399.html\n",
      "error: html ./docs/book_0/book_164.html 'NoneType' object has no attribute 'decompose' ./docs/book_0/book_164.html\n"
     ]
    },
    {
     "name": "stderr",
     "output_type": "stream",
     "text": [
      " 11%|█         | 44/406 [00:00<00:03, 103.84it/s]"
     ]
    },
    {
     "name": "stdout",
     "output_type": "stream",
     "text": [
      "error: html ./docs/book_0/book_400.html 'NoneType' object has no attribute 'decompose' ./docs/book_0/book_400.html\n",
      "error: html ./docs/book_0/book_601.html 'NoneType' object has no attribute 'decompose' ./docs/book_0/book_601.html\n",
      "error: html ./docs/book_0/book_559.html 'NoneType' object has no attribute 'decompose' ./docs/book_0/book_559.html\n",
      "error: html ./docs/book_0/book_434.html 'NoneType' object has no attribute 'decompose' ./docs/book_0/book_434.html\n",
      "error: html ./docs/book_0/book_469.html 'NoneType' object has no attribute 'decompose' ./docs/book_0/book_469.html\n",
      "error: html ./docs/book_0/book_10.html 'NoneType' object has no attribute 'decompose' ./docs/book_0/book_10.html\n",
      "error: html ./docs/book_0/book_546.html 'NoneType' object has no attribute 'decompose' ./docs/book_0/book_546.html\n",
      "error: html ./docs/book_0/book_596.html 'NoneType' object has no attribute 'decompose' ./docs/book_0/book_596.html\n",
      "error: html ./docs/book_0/book_38.html 'NoneType' object has no attribute 'decompose' ./docs/book_0/book_38.html\n",
      "error: html ./docs/book_0/book_673.html 'NoneType' object has no attribute 'decompose' ./docs/book_0/book_673.html\n",
      "error: html ./docs/book_0/book_700.html 'NoneType' object has no attribute 'decompose' ./docs/book_0/book_700.html\n",
      "error: html ./docs/book_0/book_602.html 'NoneType' object has no attribute 'decompose' ./docs/book_0/book_602.html\n",
      "error: html ./docs/book_0/book_757.html 'NoneType' object has no attribute 'decompose' ./docs/book_0/book_757.html\n",
      "error: html ./docs/book_0/book_555.html 'NoneType' object has no attribute 'decompose' ./docs/book_0/book_555.html\n",
      "error: html ./docs/book_0/book_390.html 'NoneType' object has no attribute 'decompose' ./docs/book_0/book_390.html\n",
      "error: html ./docs/book_0/book_139.html 'NoneType' object has no attribute 'decompose' ./docs/book_0/book_139.html\n",
      "error: html ./docs/book_0/book_57.html 'NoneType' object has no attribute 'decompose' ./docs/book_0/book_57.html\n",
      "error: html ./docs/book_0/book_655.html 'NoneType' object has no attribute 'decompose' ./docs/book_0/book_655.html\n",
      "error: html ./docs/book_0/book_698.html 'NoneType' object has no attribute 'decompose' ./docs/book_0/book_698.html\n",
      "error: html ./docs/book_0/book_438.html 'NoneType' object has no attribute 'decompose' ./docs/book_0/book_438.html\n",
      "error: html ./docs/book_0/book_581.html 'NoneType' object has no attribute 'decompose' ./docs/book_0/book_581.html\n",
      "error: html ./docs/book_0/book_41.html 'NoneType' object has no attribute 'decompose' ./docs/book_0/book_41.html\n"
     ]
    },
    {
     "name": "stderr",
     "output_type": "stream",
     "text": [
      " 17%|█▋        | 67/406 [00:00<00:03, 108.34it/s]"
     ]
    },
    {
     "name": "stdout",
     "output_type": "stream",
     "text": [
      "error: html ./docs/book_0/book_60.html 'NoneType' object has no attribute 'decompose' ./docs/book_0/book_60.html\n",
      "error: html ./docs/book_0/book_701.html 'NoneType' object has no attribute 'decompose' ./docs/book_0/book_701.html\n",
      "error: html ./docs/book_0/book_473.html 'NoneType' object has no attribute 'decompose' ./docs/book_0/book_473.html\n",
      "error: html ./docs/book_0/book_665.html 'NoneType' object has no attribute 'decompose' ./docs/book_0/book_665.html\n",
      "error: html ./docs/book_0/book_567.html 'NoneType' object has no attribute 'decompose' ./docs/book_0/book_567.html\n",
      "error: html ./docs/book_0/book_727.html 'NoneType' object has no attribute 'decompose' ./docs/book_0/book_727.html\n",
      "error: html ./docs/book_0/book_552.html 'NoneType' object has no attribute 'decompose' ./docs/book_0/book_552.html\n",
      "error: html ./docs/book_0/book_494.html 'NoneType' object has no attribute 'decompose' ./docs/book_0/book_494.html\n",
      "error: html ./docs/book_0/book_181.html 'NoneType' object has no attribute 'decompose' ./docs/book_0/book_181.html\n",
      "error: html ./docs/book_0/book_738.html 'NoneType' object has no attribute 'decompose' ./docs/book_0/book_738.html\n",
      "error: html ./docs/book_0/book_590.html 'NoneType' object has no attribute 'decompose' ./docs/book_0/book_590.html\n",
      "error: html ./docs/book_0/book_662.html 'NoneType' object has no attribute 'decompose' ./docs/book_0/book_662.html\n",
      "error: html ./docs/book_0/book_696.html 'NoneType' object has no attribute 'decompose' ./docs/book_0/book_696.html\n",
      "error: html ./docs/book_0/book_577.html 'NoneType' object has no attribute 'decompose' ./docs/book_0/book_577.html\n",
      "error: html ./docs/book_0/book_458.html 'NoneType' object has no attribute 'decompose' ./docs/book_0/book_458.html\n",
      "error: html ./docs/book_0/book_431.html 'NoneType' object has no attribute 'decompose' ./docs/book_0/book_431.html\n",
      "error: html ./docs/book_0/book_37.html 'NoneType' object has no attribute 'decompose' ./docs/book_0/book_37.html\n",
      "error: html ./docs/book_0/book_493.html 'NoneType' object has no attribute 'decompose' ./docs/book_0/book_493.html\n",
      "error: html ./docs/book_0/book_666.html 'NoneType' object has no attribute 'decompose' ./docs/book_0/book_666.html\n",
      "error: html ./docs/book_0/book_17.html 'NoneType' object has no attribute 'decompose' ./docs/book_0/book_17.html\n",
      "error: html ./docs/book_0/book_586.html 'NoneType' object has no attribute 'decompose' ./docs/book_0/book_586.html\n",
      "error: html ./docs/book_0/book_635.html 'NoneType' object has no attribute 'decompose' ./docs/book_0/book_635.html\n",
      "error: html ./docs/book_0/book_681.html 'NoneType' object has no attribute 'decompose' ./docs/book_0/book_681.html\n"
     ]
    },
    {
     "name": "stderr",
     "output_type": "stream",
     "text": [
      " 22%|██▏       | 90/406 [00:00<00:02, 109.79it/s]"
     ]
    },
    {
     "name": "stdout",
     "output_type": "stream",
     "text": [
      "error: html ./docs/book_0/book_576.html 'NoneType' object has no attribute 'decompose' ./docs/book_0/book_576.html\n",
      "error: html ./docs/book_0/book_44.html 'NoneType' object has no attribute 'decompose' ./docs/book_0/book_44.html\n",
      "error: html ./docs/book_0/book_30.html 'NoneType' object has no attribute 'decompose' ./docs/book_0/book_30.html\n",
      "error: html ./docs/book_0/book_503.html 'NoneType' object has no attribute 'decompose' ./docs/book_0/book_503.html\n",
      "error: html ./docs/book_0/book_309.html 'NoneType' object has no attribute 'decompose' ./docs/book_0/book_309.html\n",
      "error: html ./docs/book_0/book_359.html 'NoneType' object has no attribute 'decompose' ./docs/book_0/book_359.html\n",
      "error: html ./docs/book_0/book_614.html 'NoneType' object has no attribute 'decompose' ./docs/book_0/book_614.html\n",
      "error: html ./docs/book_0/book_755.html 'NoneType' object has no attribute 'decompose' ./docs/book_0/book_755.html\n",
      "error: html ./docs/book_0/book_671.html 'NoneType' object has no attribute 'decompose' ./docs/book_0/book_671.html\n",
      "error: html ./docs/book_0/book_101.html 'NoneType' object has no attribute 'decompose' ./docs/book_0/book_101.html\n",
      "error: html ./docs/book_0/book_518.html 'NoneType' object has no attribute 'decompose' ./docs/book_0/book_518.html\n",
      "error: html ./docs/book_0/book_402.html 'NoneType' object has no attribute 'decompose' ./docs/book_0/book_402.html\n",
      "error: html ./docs/book_0/book_563.html 'NoneType' object has no attribute 'decompose' ./docs/book_0/book_563.html\n",
      "error: html ./docs/book_0/book_749.html 'NoneType' object has no attribute 'decompose' ./docs/book_0/book_749.html\n",
      "error: html ./docs/book_0/book_613.html 'NoneType' object has no attribute 'decompose' ./docs/book_0/book_613.html\n",
      "error: html ./docs/book_0/book_627.html 'NoneType' object has no attribute 'decompose' ./docs/book_0/book_627.html\n",
      "error: html ./docs/book_0/book_535.html 'NoneType' object has no attribute 'decompose' ./docs/book_0/book_535.html\n",
      "error: html ./docs/book_0/book_606.html 'NoneType' object has no attribute 'decompose' ./docs/book_0/book_606.html\n",
      "error: html ./docs/book_0/book_630.html 'NoneType' object has no attribute 'decompose' ./docs/book_0/book_630.html\n",
      "error: html ./docs/book_0/book_397.html 'NoneType' object has no attribute 'decompose' ./docs/book_0/book_397.html\n",
      "error: html ./docs/book_0/book_509.html 'NoneType' object has no attribute 'decompose' ./docs/book_0/book_509.html\n",
      "error: html ./docs/book_0/book_713.html 'NoneType' object has no attribute 'decompose' ./docs/book_0/book_713.html\n",
      "error: html ./docs/book_0/book_65.html 'NoneType' object has no attribute 'decompose' ./docs/book_0/book_65.html\n"
     ]
    },
    {
     "name": "stderr",
     "output_type": "stream",
     "text": [
      "\r",
      " 25%|██▌       | 102/406 [00:00<00:02, 110.39it/s]"
     ]
    },
    {
     "name": "stdout",
     "output_type": "stream",
     "text": [
      "error: html ./docs/book_0/book_395.html 'NoneType' object has no attribute 'decompose' ./docs/book_0/book_395.html\n",
      "error: html ./docs/book_0/book_39.html 'NoneType' object has no attribute 'decompose' ./docs/book_0/book_39.html\n",
      "error: html ./docs/book_0/book_569.html 'NoneType' object has no attribute 'decompose' ./docs/book_0/book_569.html\n",
      "error: html ./docs/book_0/book_530.html 'NoneType' object has no attribute 'decompose' ./docs/book_0/book_530.html\n",
      "error: html ./docs/book_0/book_670.html 'NoneType' object has no attribute 'decompose' ./docs/book_0/book_670.html\n",
      "error: html ./docs/book_0/book_680.html 'NoneType' object has no attribute 'decompose' ./docs/book_0/book_680.html\n",
      "error: html ./docs/book_0/book_403.html 'NoneType' object has no attribute 'decompose' ./docs/book_0/book_403.html\n",
      "error: html ./docs/book_0/book_734.html 'NoneType' object has no attribute 'decompose' ./docs/book_0/book_734.html\n",
      "error: html ./docs/book_0/book_35.html 'NoneType' object has no attribute 'decompose' ./docs/book_0/book_35.html\n",
      "error: html ./docs/book_0/book_407.html 'NoneType' object has no attribute 'decompose' ./docs/book_0/book_407.html\n",
      "error: html ./docs/book_0/book_616.html 'NoneType' object has no attribute 'decompose' ./docs/book_0/book_616.html\n",
      "error: html ./docs/book_0/book_652.html 'NoneType' object has no attribute 'decompose' ./docs/book_0/book_652.html\n",
      "error: html ./docs/book_0/book_462.html 'NoneType' object has no attribute 'decompose' ./docs/book_0/book_462.html\n",
      "error: html ./docs/book_0/book_75.html 'NoneType' object has no attribute 'decompose' ./docs/book_0/book_75.html\n",
      "error: html ./docs/book_0/book_511.html 'NoneType' object has no attribute 'decompose' ./docs/book_0/book_511.html\n",
      "error: html ./docs/book_0/book_748.html 'NoneType' object has no attribute 'decompose' ./docs/book_0/book_748.html\n",
      "error: html ./docs/book_0/book_764.html 'NoneType' object has no attribute 'decompose' ./docs/book_0/book_764.html\n",
      "error: html ./docs/book_0/book_685.html 'NoneType' object has no attribute 'decompose' ./docs/book_0/book_685.html\n",
      "error: html ./docs/book_0/book_58.html 'NoneType' object has no attribute 'decompose' ./docs/book_0/book_58.html\n",
      "error: html ./docs/book_0/book_731.html 'NoneType' object has no attribute 'decompose' ./docs/book_0/book_731.html\n",
      "error: html ./docs/book_0/book_410.html 'NoneType' object has no attribute 'decompose' ./docs/book_0/book_410.html\n"
     ]
    },
    {
     "name": "stderr",
     "output_type": "stream",
     "text": [
      " 31%|███       | 124/406 [00:01<00:02, 101.06it/s]"
     ]
    },
    {
     "name": "stdout",
     "output_type": "stream",
     "text": [
      "error: html ./docs/book_0/book_545.html 'NoneType' object has no attribute 'decompose' ./docs/book_0/book_545.html\n",
      "error: html ./docs/book_0/book_585.html 'NoneType' object has no attribute 'decompose' ./docs/book_0/book_585.html\n",
      "error: html ./docs/book_0/book_31.html 'NoneType' object has no attribute 'decompose' ./docs/book_0/book_31.html\n",
      "error: html ./docs/book_0/book_55.html 'NoneType' object has no attribute 'decompose' ./docs/book_0/book_55.html\n",
      "error: html ./docs/book_0/book_161.html 'NoneType' object has no attribute 'decompose' ./docs/book_0/book_161.html\n",
      "error: html ./docs/book_0/book_129.html 'NoneType' object has no attribute 'decompose' ./docs/book_0/book_129.html\n",
      "error: html ./docs/book_0/book_592.html 'NoneType' object has no attribute 'decompose' ./docs/book_0/book_592.html\n",
      "error: html ./docs/book_0/book_500.html 'NoneType' object has no attribute 'decompose' ./docs/book_0/book_500.html\n",
      "error: html ./docs/book_0/book_641.html 'NoneType' object has no attribute 'decompose' ./docs/book_0/book_641.html\n",
      "error: html ./docs/book_0/book_733.html 'NoneType' object has no attribute 'decompose' ./docs/book_0/book_733.html\n",
      "error: html ./docs/book_0/book_715.html 'NoneType' object has no attribute 'decompose' ./docs/book_0/book_715.html\n",
      "error: html ./docs/book_0/book_735.html 'NoneType' object has no attribute 'decompose' ./docs/book_0/book_735.html\n",
      "error: html ./docs/book_0/book_483.html 'NoneType' object has no attribute 'decompose' ./docs/book_0/book_483.html\n",
      "error: html ./docs/book_0/book_459.html 'NoneType' object has no attribute 'decompose' ./docs/book_0/book_459.html\n",
      "error: html ./docs/book_0/book_417.html 'NoneType' object has no attribute 'decompose' ./docs/book_0/book_417.html\n",
      "error: html ./docs/book_0/book_437.html 'NoneType' object has no attribute 'decompose' ./docs/book_0/book_437.html\n",
      "error: html ./docs/book_0/book_362.html 'NoneType' object has no attribute 'decompose' ./docs/book_0/book_362.html\n",
      "error: html ./docs/book_0/book_409.html 'NoneType' object has no attribute 'decompose' ./docs/book_0/book_409.html\n",
      "error: html ./docs/book_0/book_517.html 'NoneType' object has no attribute 'decompose' ./docs/book_0/book_517.html\n",
      "error: html ./docs/book_0/book_622.html 'NoneType' object has no attribute 'decompose' ./docs/book_0/book_622.html\n"
     ]
    },
    {
     "name": "stderr",
     "output_type": "stream",
     "text": [
      " 36%|███▌      | 145/406 [00:01<00:02, 93.05it/s] "
     ]
    },
    {
     "name": "stdout",
     "output_type": "stream",
     "text": [
      "error: html ./docs/book_0/book_767.html 'NoneType' object has no attribute 'decompose' ./docs/book_0/book_767.html\n",
      "error: html ./docs/book_0/book_148.html 'NoneType' object has no attribute 'decompose' ./docs/book_0/book_148.html\n",
      "error: html ./docs/book_0/book_584.html 'NoneType' object has no attribute 'decompose' ./docs/book_0/book_584.html\n",
      "error: html ./docs/book_0/book_487.html 'NoneType' object has no attribute 'decompose' ./docs/book_0/book_487.html\n",
      "error: html ./docs/book_0/book_22.html 'NoneType' object has no attribute 'decompose' ./docs/book_0/book_22.html\n",
      "error: html ./docs/book_0/book_684.html 'NoneType' object has no attribute 'decompose' ./docs/book_0/book_684.html\n",
      "error: html ./docs/book_0/book_740.html 'NoneType' object has no attribute 'decompose' ./docs/book_0/book_740.html\n",
      "error: html ./docs/book_0/book_476.html 'NoneType' object has no attribute 'decompose' ./docs/book_0/book_476.html\n",
      "error: html ./docs/book_0/book_157.html 'NoneType' object has no attribute 'decompose' ./docs/book_0/book_157.html\n",
      "error: html ./docs/book_0/book_657.html 'NoneType' object has no attribute 'decompose' ./docs/book_0/book_657.html\n",
      "error: html ./docs/book_0/book_544.html 'NoneType' object has no attribute 'decompose' ./docs/book_0/book_544.html\n",
      "error: html ./docs/book_0/book_703.html 'NoneType' object has no attribute 'decompose' ./docs/book_0/book_703.html\n",
      "error: html ./docs/book_0/book_457.html 'NoneType' object has no attribute 'decompose' ./docs/book_0/book_457.html\n",
      "error: html ./docs/book_0/book_612.html 'NoneType' object has no attribute 'decompose' ./docs/book_0/book_612.html\n",
      "error: html ./docs/book_0/book_537.html 'NoneType' object has no attribute 'decompose' ./docs/book_0/book_537.html\n",
      "error: html ./docs/book_0/book_706.html 'NoneType' object has no attribute 'decompose' ./docs/book_0/book_706.html\n",
      "error: html ./docs/book_0/book_549.html 'NoneType' object has no attribute 'decompose' ./docs/book_0/book_549.html\n"
     ]
    },
    {
     "name": "stderr",
     "output_type": "stream",
     "text": [
      "\r",
      " 38%|███▊      | 155/406 [00:01<00:02, 90.40it/s]"
     ]
    },
    {
     "name": "stdout",
     "output_type": "stream",
     "text": [
      "error: html ./docs/book_0/book_433.html 'NoneType' object has no attribute 'decompose' ./docs/book_0/book_433.html\n",
      "error: html ./docs/book_0/book_554.html 'NoneType' object has no attribute 'decompose' ./docs/book_0/book_554.html\n",
      "error: html ./docs/book_0/book_105.html 'NoneType' object has no attribute 'decompose' ./docs/book_0/book_105.html\n",
      "error: html ./docs/book_0/book_16.html 'NoneType' object has no attribute 'decompose' ./docs/book_0/book_16.html\n",
      "error: html ./docs/book_0/book_328.html 'NoneType' object has no attribute 'decompose' ./docs/book_0/book_328.html\n",
      "error: html ./docs/book_0/book_579.html 'NoneType' object has no attribute 'decompose' ./docs/book_0/book_579.html\n",
      "error: html ./docs/book_0/book_682.html 'NoneType' object has no attribute 'decompose' ./docs/book_0/book_682.html\n",
      "error: html ./docs/book_0/book_643.html 'NoneType' object has no attribute 'decompose' ./docs/book_0/book_643.html\n",
      "error: html ./docs/book_0/book_341.html 'NoneType' object has no attribute 'decompose' ./docs/book_0/book_341.html\n",
      "error: html ./docs/book_0/book_504.html 'NoneType' object has no attribute 'decompose' ./docs/book_0/book_504.html\n",
      "error: html ./docs/book_0/book_674.html 'NoneType' object has no attribute 'decompose' ./docs/book_0/book_674.html\n",
      "error: html ./docs/book_0/book_520.html 'NoneType' object has no attribute 'decompose' ./docs/book_0/book_520.html\n",
      "error: html ./docs/book_0/book_466.html 'NoneType' object has no attribute 'decompose' ./docs/book_0/book_466.html\n",
      "error: html ./docs/book_0/book_427.html 'NoneType' object has no attribute 'decompose' ./docs/book_0/book_427.html\n",
      "error: html ./docs/book_0/book_699.html 'NoneType' object has no attribute 'decompose' ./docs/book_0/book_699.html\n",
      "error: html ./docs/book_0/book_763.html "
     ]
    },
    {
     "name": "stderr",
     "output_type": "stream",
     "text": [
      " 43%|████▎     | 176/406 [00:01<00:02, 85.51it/s]"
     ]
    },
    {
     "name": "stdout",
     "output_type": "stream",
     "text": [
      "'NoneType' object has no attribute 'decompose' ./docs/book_0/book_763.html\n",
      "error: html ./docs/book_0/book_523.html 'NoneType' object has no attribute 'decompose' ./docs/book_0/book_523.html\n",
      "error: html ./docs/book_0/book_687.html 'NoneType' object has no attribute 'decompose' ./docs/book_0/book_687.html\n",
      "error: html ./docs/book_0/book_659.html 'NoneType' object has no attribute 'decompose' ./docs/book_0/book_659.html\n",
      "error: html ./docs/book_0/book_542.html 'NoneType' object has no attribute 'decompose' ./docs/book_0/book_542.html\n",
      "error: html ./docs/book_0/book_33.html 'NoneType' object has no attribute 'decompose' ./docs/book_0/book_33.html\n",
      "error: html ./docs/book_0/book_710.html 'NoneType' object has no attribute 'decompose' ./docs/book_0/book_710.html\n",
      "error: html ./docs/book_0/book_506.html 'NoneType' object has no attribute 'decompose' ./docs/book_0/book_506.html\n",
      "error: html ./docs/book_0/book_736.html 'NoneType' object has no attribute 'decompose' ./docs/book_0/book_736.html\n",
      "error: html ./docs/book_0/book_430.html 'NoneType' object has no attribute 'decompose' ./docs/book_0/book_430.html\n",
      "error: html ./docs/book_0/book_628.html 'NoneType' object has no attribute 'decompose' ./docs/book_0/book_628.html\n",
      "error: html ./docs/book_0/book_194.html 'NoneType' object has no attribute 'decompose' ./docs/book_0/book_194.html\n",
      "error: html ./docs/book_0/book_739.html 'NoneType' object has no attribute 'decompose' ./docs/book_0/book_739.html\n",
      "error: html ./docs/book_0/book_474.html 'NoneType' object has no attribute 'decompose' ./docs/book_0/book_474.html\n",
      "error: html ./docs/book_0/book_356.html 'NoneType' object has no attribute 'decompose' ./docs/book_0/book_356.html\n",
      "error: html ./docs/book_0/book_595.html 'NoneType' object has no attribute 'decompose' ./docs/book_0/book_595.html\n",
      "error: html ./docs/book_0/book_672.html 'NoneType' object has no attribute 'decompose' ./docs/book_0/book_672.html\n",
      "error: html ./docs/book_0/book_745.html 'NoneType' object has no attribute 'decompose' ./docs/book_0/book_745.html\n",
      "error: html ./docs/book_0/book_637.html 'NoneType' object has no attribute 'decompose' ./docs/book_0/book_637.html\n",
      "error: html ./docs/book_0/book_527.html 'NoneType' object has no attribute 'decompose' ./docs/book_0/book_527.html\n",
      "error: html ./docs/book_0/book_404.html 'NoneType' object has no attribute 'decompose' ./docs/book_0/book_404.html\n"
     ]
    },
    {
     "name": "stderr",
     "output_type": "stream",
     "text": [
      " 49%|████▊     | 197/406 [00:02<00:02, 88.07it/s]"
     ]
    },
    {
     "name": "stdout",
     "output_type": "stream",
     "text": [
      "error: html ./docs/book_0/book_647.html 'NoneType' object has no attribute 'decompose' ./docs/book_0/book_647.html\n",
      "error: html ./docs/book_0/book_683.html 'NoneType' object has no attribute 'decompose' ./docs/book_0/book_683.html\n",
      "error: html ./docs/book_0/book_669.html 'NoneType' object has no attribute 'decompose' ./docs/book_0/book_669.html\n",
      "error: html ./docs/book_0/book_424.html 'NoneType' object has no attribute 'decompose' ./docs/book_0/book_424.html\n",
      "error: html ./docs/book_0/book_19.html 'NoneType' object has no attribute 'decompose' ./docs/book_0/book_19.html\n",
      "error: html ./docs/book_0/book_20.html 'NoneType' object has no attribute 'decompose' ./docs/book_0/book_20.html\n",
      "error: html ./docs/book_0/book_2.html 'NoneType' object has no attribute 'decompose' ./docs/book_0/book_2.html\n",
      "error: html ./docs/book_0/book_750.html 'NoneType' object has no attribute 'decompose' ./docs/book_0/book_750.html\n",
      "error: html ./docs/book_0/book_766.html 'NoneType' object has no attribute 'decompose' ./docs/book_0/book_766.html\n",
      "error: html ./docs/book_0/book_617.html 'NoneType' object has no attribute 'decompose' ./docs/book_0/book_617.html\n",
      "error: html ./docs/book_0/book_726.html 'NoneType' object has no attribute 'decompose' ./docs/book_0/book_726.html\n",
      "error: html ./docs/book_0/book_571.html 'NoneType' object has no attribute 'decompose' ./docs/book_0/book_571.html\n",
      "error: html ./docs/book_0/book_765.html 'NoneType' object has no attribute 'decompose' ./docs/book_0/book_765.html\n",
      "error: html ./docs/book_0/book_200.html 'NoneType' object has no attribute 'decompose' ./docs/book_0/book_200.html\n",
      "error: html ./docs/book_0/book_553.html 'NoneType' object has no attribute 'decompose' ./docs/book_0/book_553.html\n",
      "error: html ./docs/book_0/book_467.html 'NoneType' object has no attribute 'decompose' ./docs/book_0/book_467.html\n",
      "error: html ./docs/book_0/book_562.html 'NoneType' object has no attribute 'decompose' ./docs/book_0/book_562.html\n",
      "error: html ./docs/book_0/book_477.html 'NoneType' object has no attribute 'decompose' ./docs/book_0/book_477.html\n",
      "error: html ./docs/book_0/book_513.html 'NoneType' object has no attribute 'decompose' ./docs/book_0/book_513.html\n"
     ]
    },
    {
     "name": "stderr",
     "output_type": "stream",
     "text": [
      " 54%|█████▎    | 218/406 [00:02<00:01, 95.32it/s]"
     ]
    },
    {
     "name": "stdout",
     "output_type": "stream",
     "text": [
      "error: html ./docs/book_0/book_6.html 'NoneType' object has no attribute 'decompose' ./docs/book_0/book_6.html\n",
      "error: html ./docs/book_0/book_489.html 'NoneType' object has no attribute 'decompose' ./docs/book_0/book_489.html\n",
      "error: html ./docs/book_0/book_64.html 'NoneType' object has no attribute 'decompose' ./docs/book_0/book_64.html\n",
      "error: html ./docs/book_0/book_465.html 'NoneType' object has no attribute 'decompose' ./docs/book_0/book_465.html\n",
      "error: html ./docs/book_0/book_199.html 'NoneType' object has no attribute 'decompose' ./docs/book_0/book_199.html\n",
      "error: html ./docs/book_0/book_405.html 'NoneType' object has no attribute 'decompose' ./docs/book_0/book_405.html\n",
      "error: html ./docs/book_0/book_18.html 'NoneType' object has no attribute 'decompose' ./docs/book_0/book_18.html\n",
      "error: html ./docs/book_0/book_497.html 'NoneType' object has no attribute 'decompose' ./docs/book_0/book_497.html\n",
      "error: html ./docs/book_0/book_721.html 'NoneType' object has no attribute 'decompose' ./docs/book_0/book_721.html\n",
      "error: html ./docs/book_0/book_46.html 'NoneType' object has no attribute 'decompose' ./docs/book_0/book_46.html\n",
      "error: html ./docs/book_0/book_521.html 'NoneType' object has no attribute 'decompose' ./docs/book_0/book_521.html\n",
      "error: html ./docs/book_0/book_406.html 'NoneType' object has no attribute 'decompose' ./docs/book_0/book_406.html\n",
      "error: html ./docs/book_0/book_702.html 'NoneType' object has no attribute 'decompose' ./docs/book_0/book_702.html\n",
      "error: html ./docs/book_0/book_54.html 'NoneType' object has no attribute 'decompose' ./docs/book_0/book_54.html\n",
      "error: html ./docs/book_0/book_419.html 'NoneType' object has no attribute 'decompose' ./docs/book_0/book_419.html\n",
      "error: html ./docs/book_0/book_392.html 'NoneType' object has no attribute 'decompose' ./docs/book_0/book_392.html\n",
      "error: html ./docs/book_0/book_40.html 'NoneType' object has no attribute 'decompose' ./docs/book_0/book_40.html\n",
      "error: html ./docs/book_0/book_677.html 'NoneType' object has no attribute 'decompose' ./docs/book_0/book_677.html\n",
      "error: html ./docs/book_0/book_631.html 'NoneType' object has no attribute 'decompose' ./docs/book_0/book_631.html\n",
      "error: html ./docs/book_0/book_597.html 'NoneType' object has no attribute 'decompose' ./docs/book_0/book_597.html\n",
      "error: html ./docs/book_0/book_620.html 'NoneType' object has no attribute 'decompose' ./docs/book_0/book_620.html\n",
      "error: html ./docs/book_0/book_754.html 'NoneType' object has no attribute 'decompose' ./docs/book_0/book_754.html\n"
     ]
    },
    {
     "name": "stderr",
     "output_type": "stream",
     "text": [
      " 59%|█████▉    | 241/406 [00:02<00:01, 100.78it/s]"
     ]
    },
    {
     "name": "stdout",
     "output_type": "stream",
     "text": [
      "error: html ./docs/book_0/book_461.html 'NoneType' object has no attribute 'decompose' ./docs/book_0/book_461.html\n",
      "error: html ./docs/book_0/book_313.html 'NoneType' object has no attribute 'decompose' ./docs/book_0/book_313.html\n",
      "error: html ./docs/book_0/book_422.html 'NoneType' object has no attribute 'decompose' ./docs/book_0/book_422.html\n",
      "error: html ./docs/book_0/book_425.html 'NoneType' object has no attribute 'decompose' ./docs/book_0/book_425.html\n",
      "error: html ./docs/book_0/book_43.html 'NoneType' object has no attribute 'decompose' ./docs/book_0/book_43.html\n",
      "error: html ./docs/book_0/book_536.html 'NoneType' object has no attribute 'decompose' ./docs/book_0/book_536.html\n",
      "error: html ./docs/book_0/book_747.html 'NoneType' object has no attribute 'decompose' ./docs/book_0/book_747.html\n",
      "error: html ./docs/book_0/book_505.html 'NoneType' object has no attribute 'decompose' ./docs/book_0/book_505.html\n",
      "error: html ./docs/book_0/book_501.html 'NoneType' object has no attribute 'decompose' ./docs/book_0/book_501.html\n",
      "error: html ./docs/book_0/book_688.html 'NoneType' object has no attribute 'decompose' ./docs/book_0/book_688.html\n",
      "error: html ./docs/book_0/book_421.html 'NoneType' object has no attribute 'decompose' ./docs/book_0/book_421.html\n",
      "error: html ./docs/book_0/book_514.html 'NoneType' object has no attribute 'decompose' ./docs/book_0/book_514.html\n",
      "error: html ./docs/book_0/book_134.html 'NoneType' object has no attribute 'decompose' ./docs/book_0/book_134.html\n",
      "error: html ./docs/book_0/book_645.html 'NoneType' object has no attribute 'decompose' ./docs/book_0/book_645.html\n",
      "error: html ./docs/book_0/book_12.html 'NoneType' object has no attribute 'decompose' ./docs/book_0/book_12.html\n",
      "error: html ./docs/book_0/book_572.html 'NoneType' object has no attribute 'decompose' ./docs/book_0/book_572.html\n",
      "error: html ./docs/book_0/book_679.html 'NoneType' object has no attribute 'decompose' ./docs/book_0/book_679.html\n",
      "error: html ./docs/book_0/book_728.html 'NoneType' object has no attribute 'decompose' ./docs/book_0/book_728.html\n",
      "error: html ./docs/book_0/book_548.html 'NoneType' object has no attribute 'decompose' ./docs/book_0/book_548.html\n",
      "error: html ./docs/book_0/book_580.html 'NoneType' object has no attribute 'decompose' ./docs/book_0/book_580.html\n",
      "error: html ./docs/book_0/book_678.html 'NoneType' object has no attribute 'decompose' ./docs/book_0/book_678.html\n"
     ]
    },
    {
     "name": "stderr",
     "output_type": "stream",
     "text": [
      " 65%|██████▌   | 264/406 [00:02<00:01, 102.93it/s]"
     ]
    },
    {
     "name": "stdout",
     "output_type": "stream",
     "text": [
      "error: html ./docs/book_0/book_533.html 'NoneType' object has no attribute 'decompose' ./docs/book_0/book_533.html\n",
      "error: html ./docs/book_0/book_638.html 'NoneType' object has no attribute 'decompose' ./docs/book_0/book_638.html\n",
      "error: html ./docs/book_0/book_623.html 'NoneType' object has no attribute 'decompose' ./docs/book_0/book_623.html\n",
      "error: html ./docs/book_0/book_692.html 'NoneType' object has no attribute 'decompose' ./docs/book_0/book_692.html\n",
      "error: html ./docs/book_0/book_502.html 'NoneType' object has no attribute 'decompose' ./docs/book_0/book_502.html\n",
      "error: html ./docs/book_0/book_632.html 'NoneType' object has no attribute 'decompose' ./docs/book_0/book_632.html\n",
      "error: html ./docs/book_0/book_557.html 'NoneType' object has no attribute 'decompose' ./docs/book_0/book_557.html\n",
      "error: html ./docs/book_0/book_25.html 'NoneType' object has no attribute 'decompose' ./docs/book_0/book_25.html\n",
      "error: html ./docs/book_0/book_560.html 'NoneType' object has no attribute 'decompose' ./docs/book_0/book_560.html\n",
      "error: html ./docs/book_0/book_686.html 'NoneType' object has no attribute 'decompose' ./docs/book_0/book_686.html\n",
      "error: html ./docs/book_0/book_664.html 'NoneType' object has no attribute 'decompose' ./docs/book_0/book_664.html\n",
      "error: html ./docs/book_0/book_396.html 'NoneType' object has no attribute 'decompose' ./docs/book_0/book_396.html\n",
      "error: html ./docs/book_0/book_411.html 'NoneType' object has no attribute 'decompose' ./docs/book_0/book_411.html\n",
      "error: html ./docs/book_0/book_26.html 'NoneType' object has no attribute 'decompose' ./docs/book_0/book_26.html\n",
      "error: html ./docs/book_0/book_697.html 'NoneType' object has no attribute 'decompose' ./docs/book_0/book_697.html\n",
      "error: html ./docs/book_0/book_510.html 'NoneType' object has no attribute 'decompose' ./docs/book_0/book_510.html\n",
      "error: html ./docs/book_0/book_758.html 'NoneType' object has no attribute 'decompose' ./docs/book_0/book_758.html\n",
      "error: html ./docs/book_0/book_538.html 'NoneType' object has no attribute 'decompose' ./docs/book_0/book_538.html\n",
      "error: html ./docs/book_0/book_746.html 'NoneType' object has no attribute 'decompose' ./docs/book_0/book_746.html\n",
      "error: html ./docs/book_0/book_718.html 'NoneType' object has no attribute 'decompose' ./docs/book_0/book_718.html\n",
      "error: html ./docs/book_0/book_507.html 'NoneType' object has no attribute 'decompose' ./docs/book_0/book_507.html\n",
      "error: html ./docs/book_0/book_589.html 'NoneType' object has no attribute 'decompose' ./docs/book_0/book_589.html\n"
     ]
    },
    {
     "name": "stderr",
     "output_type": "stream",
     "text": [
      " 71%|███████   | 287/406 [00:02<00:01, 106.31it/s]"
     ]
    },
    {
     "name": "stdout",
     "output_type": "stream",
     "text": [
      "error: html ./docs/book_0/book_618.html 'NoneType' object has no attribute 'decompose' ./docs/book_0/book_618.html\n",
      "error: html ./docs/book_0/book_528.html 'NoneType' object has no attribute 'decompose' ./docs/book_0/book_528.html\n",
      "error: html ./docs/book_0/book_8.html 'NoneType' object has no attribute 'decompose' ./docs/book_0/book_8.html\n",
      "error: html ./docs/book_0/book_426.html 'NoneType' object has no attribute 'decompose' ./docs/book_0/book_426.html\n",
      "error: html ./docs/book_0/book_439.html 'NoneType' object has no attribute 'decompose' ./docs/book_0/book_439.html\n",
      "error: html ./docs/book_0/book_636.html 'NoneType' object has no attribute 'decompose' ./docs/book_0/book_636.html\n",
      "error: html ./docs/book_0/book_21.html 'NoneType' object has no attribute 'decompose' ./docs/book_0/book_21.html\n",
      "error: html ./docs/book_0/book_573.html 'NoneType' object has no attribute 'decompose' ./docs/book_0/book_573.html\n",
      "error: html ./docs/book_0/book_413.html 'NoneType' object has no attribute 'decompose' ./docs/book_0/book_413.html\n",
      "error: html ./docs/book_0/book_658.html 'NoneType' object has no attribute 'decompose' ./docs/book_0/book_658.html\n",
      "error: html ./docs/book_0/book_68.html 'NoneType' object has no attribute 'decompose' ./docs/book_0/book_68.html\n",
      "error: html ./docs/book_0/book_99.html 'NoneType' object has no attribute 'decompose' ./docs/book_0/book_99.html\n",
      "error: html ./docs/book_0/book_170.html 'NoneType' object has no attribute 'decompose' ./docs/book_0/book_170.html\n",
      "error: html ./docs/book_0/book_388.html 'NoneType' object has no attribute 'decompose' ./docs/book_0/book_388.html\n",
      "error: html ./docs/book_0/book_640.html 'NoneType' object has no attribute 'decompose' ./docs/book_0/book_640.html\n",
      "error: html ./docs/book_0/book_391.html 'NoneType' object has no attribute 'decompose' ./docs/book_0/book_391.html\n",
      "error: html ./docs/book_0/book_558.html 'NoneType' object has no attribute 'decompose' ./docs/book_0/book_558.html\n",
      "error: html ./docs/book_0/book_564.html 'NoneType' object has no attribute 'decompose' ./docs/book_0/book_564.html\n",
      "error: html ./docs/book_0/book_676.html 'NoneType' object has no attribute 'decompose' ./docs/book_0/book_676.html\n",
      "error: html ./docs/book_0/book_639.html 'NoneType' object has no attribute 'decompose' ./docs/book_0/book_639.html\n",
      "error: html ./docs/book_0/book_59.html 'NoneType' object has no attribute 'decompose' ./docs/book_0/book_59.html\n",
      "error: html ./docs/book_0/book_761.html 'NoneType' object has no attribute 'decompose' ./docs/book_0/book_761.html\n",
      "error: html ./docs/book_0/book_408.html 'NoneType' object has no attribute 'decompose' ./docs/book_0/book_408.html\n"
     ]
    },
    {
     "name": "stderr",
     "output_type": "stream",
     "text": [
      " 77%|███████▋  | 311/406 [00:03<00:00, 109.69it/s]"
     ]
    },
    {
     "name": "stdout",
     "output_type": "stream",
     "text": [
      "error: html ./docs/book_0/book_709.html 'NoneType' object has no attribute 'decompose' ./docs/book_0/book_709.html\n",
      "error: html ./docs/book_0/book_598.html 'NoneType' object has no attribute 'decompose' ./docs/book_0/book_598.html\n",
      "error: html ./docs/book_0/book_436.html 'NoneType' object has no attribute 'decompose' ./docs/book_0/book_436.html\n",
      "error: html ./docs/book_0/book_650.html 'NoneType' object has no attribute 'decompose' ./docs/book_0/book_650.html\n",
      "error: html ./docs/book_0/book_550.html 'NoneType' object has no attribute 'decompose' ./docs/book_0/book_550.html\n",
      "error: html ./docs/book_0/book_7.html 'NoneType' object has no attribute 'decompose' ./docs/book_0/book_7.html\n",
      "error: html ./docs/book_0/book_102.html 'NoneType' object has no attribute 'decompose' ./docs/book_0/book_102.html\n",
      "error: html ./docs/book_0/book_512.html 'NoneType' object has no attribute 'decompose' ./docs/book_0/book_512.html\n",
      "error: html ./docs/book_0/book_432.html 'NoneType' object has no attribute 'decompose' ./docs/book_0/book_432.html\n",
      "error: html ./docs/book_0/book_574.html 'NoneType' object has no attribute 'decompose' ./docs/book_0/book_574.html\n",
      "error: html ./docs/book_0/book_34.html 'NoneType' object has no attribute 'decompose' ./docs/book_0/book_34.html\n",
      "error: html ./docs/book_0/book_498.html 'NoneType' object has no attribute 'decompose' ./docs/book_0/book_498.html\n",
      "error: html ./docs/book_0/book_621.html 'NoneType' object has no attribute 'decompose' ./docs/book_0/book_621.html\n",
      "error: html ./docs/book_0/book_429.html 'NoneType' object has no attribute 'decompose' ./docs/book_0/book_429.html\n",
      "error: html ./docs/book_0/book_753.html 'NoneType' object has no attribute 'decompose' ./docs/book_0/book_753.html\n",
      "error: html ./docs/book_0/book_195.html 'NoneType' object has no attribute 'decompose' ./docs/book_0/book_195.html\n",
      "error: html ./docs/book_0/book_435.html 'NoneType' object has no attribute 'decompose' ./docs/book_0/book_435.html\n",
      "error: html ./docs/book_0/book_4.html 'NoneType' object has no attribute 'decompose' ./docs/book_0/book_4.html\n",
      "error: html ./docs/book_0/book_369.html 'NoneType' object has no attribute 'decompose' ./docs/book_0/book_369.html\n",
      "error: html ./docs/book_0/book_456.html 'NoneType' object has no attribute 'decompose' ./docs/book_0/book_456.html\n",
      "error: html ./docs/book_0/book_653.html 'NoneType' object has no attribute 'decompose' ./docs/book_0/book_653.html\n",
      "error: html ./docs/book_0/book_63.html 'NoneType' object has no attribute 'decompose' ./docs/book_0/book_63.html\n",
      "error: html ./docs/book_0/book_306.html 'NoneType' object has no attribute 'decompose' ./docs/book_0/book_306.html\n"
     ]
    },
    {
     "name": "stderr",
     "output_type": "stream",
     "text": [
      " 82%|████████▏ | 334/406 [00:03<00:00, 105.51it/s]"
     ]
    },
    {
     "name": "stdout",
     "output_type": "stream",
     "text": [
      "error: html ./docs/book_0/book_14.html 'NoneType' object has no attribute 'decompose' ./docs/book_0/book_14.html\n",
      "error: html ./docs/book_0/book_189.html 'NoneType' object has no attribute 'decompose' ./docs/book_0/book_189.html\n",
      "error: html ./docs/book_0/book_663.html 'NoneType' object has no attribute 'decompose' ./docs/book_0/book_663.html\n",
      "error: html ./docs/book_0/book_646.html 'NoneType' object has no attribute 'decompose' ./docs/book_0/book_646.html\n",
      "error: html ./docs/book_0/book_693.html 'NoneType' object has no attribute 'decompose' ./docs/book_0/book_693.html\n",
      "error: html ./docs/book_0/book_587.html 'NoneType' object has no attribute 'decompose' ./docs/book_0/book_587.html\n",
      "error: html ./docs/book_0/book_104.html 'NoneType' object has no attribute 'decompose' ./docs/book_0/book_104.html\n",
      "error: html ./docs/book_0/book_615.html 'NoneType' object has no attribute 'decompose' ./docs/book_0/book_615.html\n",
      "error: html ./docs/book_0/book_515.html 'NoneType' object has no attribute 'decompose' ./docs/book_0/book_515.html\n",
      "error: html ./docs/book_0/book_49.html 'NoneType' object has no attribute 'decompose' ./docs/book_0/book_49.html\n",
      "error: html ./docs/book_0/book_737.html 'NoneType' object has no attribute 'decompose' ./docs/book_0/book_737.html\n",
      "error: html ./docs/book_0/book_566.html 'NoneType' object has no attribute 'decompose' ./docs/book_0/book_566.html\n",
      "error: html ./docs/book_0/book_565.html 'NoneType' object has no attribute 'decompose' ./docs/book_0/book_565.html\n",
      "error: html ./docs/book_0/book_29.html 'NoneType' object has no attribute 'decompose' ./docs/book_0/book_29.html\n",
      "error: html ./docs/book_0/book_759.html 'NoneType' object has no attribute 'decompose' ./docs/book_0/book_759.html\n",
      "error: html ./docs/book_0/book_578.html 'NoneType' object has no attribute 'decompose' ./docs/book_0/book_578.html\n",
      "error: html ./docs/book_0/book_568.html 'NoneType' object has no attribute 'decompose' ./docs/book_0/book_568.html\n",
      "error: html ./docs/book_0/book_539.html 'NoneType' object has no attribute 'decompose' ./docs/book_0/book_539.html\n",
      "error: html ./docs/book_0/book_582.html 'NoneType' object has no attribute 'decompose' ./docs/book_0/book_582.html\n",
      "error: html ./docs/book_0/book_625.html 'NoneType' object has no attribute 'decompose' ./docs/book_0/book_625.html\n",
      "error: html ./docs/book_0/book_600.html 'NoneType' object has no attribute 'decompose' ./docs/book_0/book_600.html\n"
     ]
    },
    {
     "name": "stderr",
     "output_type": "stream",
     "text": [
      "\r",
      " 85%|████████▍ | 345/406 [00:03<00:00, 96.98it/s] "
     ]
    },
    {
     "name": "stdout",
     "output_type": "stream",
     "text": [
      "error: html ./docs/book_0/book_556.html 'NoneType' object has no attribute 'decompose' ./docs/book_0/book_556.html\n",
      "error: html ./docs/book_0/book_481.html 'NoneType' object has no attribute 'decompose' ./docs/book_0/book_481.html\n",
      "error: html ./docs/book_0/book_478.html 'NoneType' object has no attribute 'decompose' ./docs/book_0/book_478.html\n",
      "error: html ./docs/book_0/book_3.html 'NoneType' object has no attribute 'decompose' ./docs/book_0/book_3.html\n",
      "error: html ./docs/book_0/book_13.html 'NoneType' object has no attribute 'decompose' ./docs/book_0/book_13.html\n",
      "error: html ./docs/book_0/book_175.html 'NoneType' object has no attribute 'decompose' ./docs/book_0/book_175.html\n",
      "error: html ./docs/book_0/book_184.html 'NoneType' object has no attribute 'decompose' ./docs/book_0/book_184.html\n",
      "error: html ./docs/book_0/book_475.html 'NoneType' object has no attribute 'decompose' ./docs/book_0/book_475.html\n",
      "error: html ./docs/book_0/book_167.html 'NoneType' object has no attribute 'decompose' ./docs/book_0/book_167.html\n",
      "error: html ./docs/book_0/book_675.html 'NoneType' object has no attribute 'decompose' ./docs/book_0/book_675.html\n",
      "error: html ./docs/book_0/book_551.html 'NoneType' object has no attribute 'decompose' ./docs/book_0/book_551.html\n",
      "error: html ./docs/book_0/book_729.html 'NoneType' object has no attribute 'decompose' ./docs/book_0/book_729.html\n",
      "error: html ./docs/book_0/book_714.html 'NoneType' object has no attribute 'decompose' ./docs/book_0/book_714.html\n",
      "error: html ./docs/book_0/book_415.html 'NoneType' object has no attribute 'decompose' ./docs/book_0/book_415.html\n",
      "error: html ./docs/book_0/book_516.html 'NoneType' object has no attribute 'decompose' ./docs/book_0/book_516.html\n",
      "error: html ./docs/book_0/book_648.html 'NoneType' object has no attribute 'decompose' ./docs/book_0/book_648.html\n",
      "error: html ./docs/book_0/book_561.html 'NoneType' object has no attribute 'decompose' ./docs/book_0/book_561.html\n",
      "error: html ./docs/book_0/book_694.html 'NoneType' object has no attribute 'decompose' ./docs/book_0/book_694.html\n",
      "error: html ./docs/book_0/book_607.html 'NoneType' object has no attribute 'decompose' ./docs/book_0/book_607.html\n",
      "error: html ./docs/book_0/book_642.html 'NoneType' object has no attribute 'decompose' ./docs/book_0/book_642.html\n",
      "error: html ./docs/book_0/book_23.html 'NoneType' object has no attribute 'decompose' ./docs/book_0/book_23.html\n"
     ]
    },
    {
     "name": "stderr",
     "output_type": "stream",
     "text": [
      "\r",
      " 88%|████████▊ | 357/406 [00:03<00:00, 102.46it/s]"
     ]
    },
    {
     "name": "stdout",
     "output_type": "stream",
     "text": [
      "error: html ./docs/book_0/book_604.html 'NoneType' object has no attribute 'decompose' ./docs/book_0/book_604.html\n",
      "error: html ./docs/book_0/book_36.html 'NoneType' object has no attribute 'decompose' ./docs/book_0/book_36.html\n",
      "error: html ./docs/book_0/book_524.html 'NoneType' object has no attribute 'decompose' ./docs/book_0/book_524.html\n",
      "error: html ./docs/book_0/book_61.html 'NoneType' object has no attribute 'decompose' ./docs/book_0/book_61.html\n",
      "error: html ./docs/book_0/book_541.html 'NoneType' object has no attribute 'decompose' ./docs/book_0/book_541.html\n",
      "error: html ./docs/book_0/book_656.html 'NoneType' object has no attribute 'decompose' ./docs/book_0/book_656.html\n",
      "error: html ./docs/book_0/book_525.html 'NoneType' object has no attribute 'decompose' ./docs/book_0/book_525.html\n",
      "error: html ./docs/book_0/book_695.html 'NoneType' object has no attribute 'decompose' ./docs/book_0/book_695.html\n",
      "error: html ./docs/book_0/book_464.html 'NoneType' object has no attribute 'decompose' ./docs/book_0/book_464.html\n",
      "error: html ./docs/book_0/book_651.html 'NoneType' object has no attribute 'decompose' ./docs/book_0/book_651.html\n"
     ]
    },
    {
     "name": "stderr",
     "output_type": "stream",
     "text": [
      " 94%|█████████▎| 380/406 [00:03<00:00, 85.31it/s] "
     ]
    },
    {
     "name": "stdout",
     "output_type": "stream",
     "text": [
      "error: html ./docs/book_0/book_471.html 'NoneType' object has no attribute 'decompose' ./docs/book_0/book_471.html\n",
      "error: html ./docs/book_0/book_730.html 'NoneType' object has no attribute 'decompose' ./docs/book_0/book_730.html\n",
      "error: html ./docs/book_0/book_599.html 'NoneType' object has no attribute 'decompose' ./docs/book_0/book_599.html\n",
      "error: html ./docs/book_0/book_460.html 'NoneType' object has no attribute 'decompose' ./docs/book_0/book_460.html\n",
      "error: html ./docs/book_0/book_499.html 'NoneType' object has no attribute 'decompose' ./docs/book_0/book_499.html\n",
      "error: html ./docs/book_0/book_649.html 'NoneType' object has no attribute 'decompose' ./docs/book_0/book_649.html\n",
      "error: html ./docs/book_0/book_398.html 'NoneType' object has no attribute 'decompose' ./docs/book_0/book_398.html\n",
      "error: html ./docs/book_0/book_724.html 'NoneType' object has no attribute 'decompose' ./docs/book_0/book_724.html\n",
      "error: html ./docs/book_0/book_28.html 'NoneType' object has no attribute 'decompose' ./docs/book_0/book_28.html\n",
      "error: html ./docs/book_0/book_691.html 'NoneType' object has no attribute 'decompose' ./docs/book_0/book_691.html\n",
      "error: html ./docs/book_0/book_529.html 'NoneType' object has no attribute 'decompose' ./docs/book_0/book_529.html\n",
      "error: html ./docs/book_0/book_24.html 'NoneType' object has no attribute 'decompose' ./docs/book_0/book_24.html\n",
      "error: html ./docs/book_0/book_760.html 'NoneType' object has no attribute 'decompose' ./docs/book_0/book_760.html\n",
      "error: html ./docs/book_0/book_668.html 'NoneType' object has no attribute 'decompose' ./docs/book_0/book_668.html\n",
      "error: html ./docs/book_0/book_654.html 'NoneType' object has no attribute 'decompose' ./docs/book_0/book_654.html\n",
      "error: html ./docs/book_0/book_722.html 'NoneType' object has no attribute 'decompose' ./docs/book_0/book_722.html\n",
      "error: html ./docs/book_0/book_526.html 'NoneType' object has no attribute 'decompose' ./docs/book_0/book_526.html\n",
      "error: html ./docs/book_0/book_762.html 'NoneType' object has no attribute 'decompose' ./docs/book_0/book_762.html\n",
      "error: html ./docs/book_0/book_644.html 'NoneType' object has no attribute 'decompose' ./docs/book_0/book_644.html\n",
      "error: html ./docs/book_0/book_660.html 'NoneType' object has no attribute 'decompose' ./docs/book_0/book_660.html\n",
      "error: html ./docs/book_0/book_591.html 'NoneType' object has no attribute 'decompose' ./docs/book_0/book_591.html\n",
      "error: html ./docs/book_0/book_629.html 'NoneType' object has no attribute 'decompose' ./docs/book_0/book_629.html\n",
      "error: html ./docs/book_0/book_56.html 'NoneType' object has no attribute 'decompose' ./docs/book_0/book_56.html\n"
     ]
    },
    {
     "name": "stderr",
     "output_type": "stream",
     "text": [
      "100%|██████████| 406/406 [00:04<00:00, 98.23it/s]"
     ]
    },
    {
     "name": "stdout",
     "output_type": "stream",
     "text": [
      "error: html ./docs/book_0/book_307.html 'NoneType' object has no attribute 'decompose' ./docs/book_0/book_307.html\n",
      "error: html ./docs/book_0/book_98.html 'NoneType' object has no attribute 'decompose' ./docs/book_0/book_98.html\n",
      "error: html ./docs/book_0/book_15.html 'NoneType' object has no attribute 'decompose' ./docs/book_0/book_15.html\n",
      "error: html ./docs/book_0/book_468.html 'NoneType' object has no attribute 'decompose' ./docs/book_0/book_468.html\n",
      "error: html ./docs/book_0/book_751.html 'NoneType' object has no attribute 'decompose' ./docs/book_0/book_751.html\n",
      "error: html ./docs/book_0/book_71.html 'NoneType' object has no attribute 'decompose' ./docs/book_0/book_71.html\n",
      "error: html ./docs/book_0/book_667.html 'NoneType' object has no attribute 'decompose' ./docs/book_0/book_667.html\n",
      "error: html ./docs/book_0/book_428.html 'NoneType' object has no attribute 'decompose' ./docs/book_0/book_428.html\n",
      "error: html ./docs/book_0/book_155.html 'NoneType' object has no attribute 'decompose' ./docs/book_0/book_155.html\n",
      "error: html ./docs/book_0/book_508.html 'NoneType' object has no attribute 'decompose' ./docs/book_0/book_508.html\n",
      "error: html ./docs/book_0/book_732.html 'NoneType' object has no attribute 'decompose' ./docs/book_0/book_732.html\n",
      "error: html ./docs/book_0/book_575.html 'NoneType' object has no attribute 'decompose' ./docs/book_0/book_575.html\n",
      "error: html ./docs/book_0/book_414.html 'NoneType' object has no attribute 'decompose' ./docs/book_0/book_414.html\n",
      "error: html ./docs/book_0/book_42.html 'NoneType' object has no attribute 'decompose' ./docs/book_0/book_42.html\n",
      "error: html ./docs/book_0/book_470.html 'NoneType' object has no attribute 'decompose' ./docs/book_0/book_470.html\n",
      "error: html ./docs/book_0/book_626.html 'NoneType' object has no attribute 'decompose' ./docs/book_0/book_626.html\n",
      "error: html ./docs/book_0/book_619.html 'NoneType' object has no attribute 'decompose' ./docs/book_0/book_619.html\n"
     ]
    },
    {
     "name": "stderr",
     "output_type": "stream",
     "text": [
      "\n"
     ]
    }
   ],
   "source": [
    "for file in tqdm.tqdm(file_path):\n",
    "    try:    \n",
    "        with open(file,\"r\") as f:\n",
    "            soup = bs4.BeautifulSoup(f.read(),features=\"lxml\")\n",
    "            p = soup.select(\".x_container\")[0]\n",
    "            author = p.select(author_t)[0].text\n",
    "            title = p.select(title_t)[0].text.split(\"\\n\")[1].strip()\n",
    "            soup.head.title.string = f\"{title}, By {author} | {soup.head.title.string}\"\n",
    "        with open(file,\"w\") as f:    \n",
    "            f.write(str(soup))\n",
    "    except Exception as e:\n",
    "         print(f\"error: html {file}\",e,file)\n",
    "        \n"
   ]
  },
  {
   "cell_type": "code",
   "execution_count": null,
   "metadata": {},
   "outputs": [],
   "source": []
  }
 ],
 "metadata": {
  "kernelspec": {
   "display_name": "Python 3",
   "language": "python",
   "name": "python3"
  },
  "language_info": {
   "codemirror_mode": {
    "name": "ipython",
    "version": 3
   },
   "file_extension": ".py",
   "mimetype": "text/x-python",
   "name": "python",
   "nbconvert_exporter": "python",
   "pygments_lexer": "ipython3",
   "version": "3.6.9"
  }
 },
 "nbformat": 4,
 "nbformat_minor": 4
}
