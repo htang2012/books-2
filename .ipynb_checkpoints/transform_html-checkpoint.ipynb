{
 "cells": [
  {
   "cell_type": "code",
   "execution_count": null,
   "metadata": {},
   "outputs": [],
   "source": [
    "import os\n",
    "import bs4\n",
    "import tqdm\n",
    "import glob\n",
    "from itertools import chain"
   ]
  },
  {
   "cell_type": "code",
   "execution_count": null,
   "metadata": {},
   "outputs": [],
   "source": [
    "print(\"Formatting last updated\")"
   ]
  },
  {
   "cell_type": "code",
   "execution_count": null,
   "metadata": {},
   "outputs": [],
   "source": [
    "files = glob.glob(\"docs/*.html\")"
   ]
  },
  {
   "cell_type": "code",
   "execution_count": null,
   "metadata": {},
   "outputs": [],
   "source": [
    "for file in tqdm.tqdm(files):\n",
    "    try:    \n",
    "        with open(file,\"r\") as f:\n",
    "            soup = bs4.BeautifulSoup(f.read(),features=\"lxml\")\n",
    "            p = soup.select(\".dateGenerated\")[0]\n",
    "            p.string = f\"Last updated on {p.text.strip().split('on')[1]}\"\n",
    "        with open(file,\"w\") as f:    \n",
    "            f.write(str(soup))\n",
    "    except Exception as e:\n",
    "        print(f\"error formatting last updated {file}\",e)"
   ]
  },
  {
   "cell_type": "code",
   "execution_count": null,
   "metadata": {},
   "outputs": [],
   "source": [
    "print(\"Deleting footers\")"
   ]
  },
  {
   "cell_type": "code",
   "execution_count": null,
   "metadata": {},
   "outputs": [],
   "source": [
    "#files = chain(glob.glob(\"docs/*/*.html\"), glob.glob(\"docs/*.html\"))\n",
    "files = list(glob.glob(\"docs/*/*.html\"))\n",
    "files.extend(glob.glob(\"docs/*.html\"))\n",
    "for file in tqdm.tqdm(files):\n",
    "    try:    \n",
    "        with open(file,\"r\") as f:\n",
    "            soup = bs4.BeautifulSoup(f.read(),features=\"lxml\")\n",
    "            soup.find(id=\"footer\").decompose()\n",
    "        with open(file,\"w\") as f:    \n",
    "            f.write(str(soup))\n",
    "    except Exception as e:\n",
    "        if file not in  [\"docs/search/search.html\",\"docs/header.html\"]:\n",
    "            print(f\"error deleting footer html {file}\",e)"
   ]
  },
  {
   "cell_type": "code",
   "execution_count": null,
   "metadata": {},
   "outputs": [],
   "source": [
    "print(\"Fixing Titles\")"
   ]
  },
  {
   "cell_type": "code",
   "execution_count": null,
   "metadata": {},
   "outputs": [],
   "source": [
    "file_path  = [f\"./docs/book_0/{i}\" for i in os.listdir(\"docs/book_0\") if i[-4:]==\"html\"]"
   ]
  },
  {
   "cell_type": "code",
   "execution_count": null,
   "metadata": {},
   "outputs": [],
   "source": [
    "author_t = \" div.fullEntry_title > h1 > small > em > small > em > a\"\n",
    "title_t = \" div.fullEntry_title > h1\""
   ]
  },
  {
   "cell_type": "code",
   "execution_count": null,
   "metadata": {},
   "outputs": [],
   "source": [
    "for file in tqdm.tqdm(file_path):\n",
    "    try:    \n",
    "        with open(file,\"r\") as f:\n",
    "            soup = bs4.BeautifulSoup(f.read(),features=\"lxml\")\n",
    "            p = soup.select(\".x_container\")[0]\n",
    "            author = p.select(author_t)[0].text\n",
    "            title = p.select(title_t)[0].text.split(\"\\n\")[1].strip()\n",
    "            soup.head.title.string = f\"{title}, By {author} | {soup.head.title.string}\"\n",
    "        with open(file,\"w\") as f:    \n",
    "            f.write(str(soup))\n",
    "    except Exception as e:\n",
    "         print(f\"error: html {file}\",e,file)\n",
    "        \n"
   ]
  },
  {
   "cell_type": "code",
   "execution_count": null,
   "metadata": {},
   "outputs": [],
   "source": []
  }
 ],
 "metadata": {
  "kernelspec": {
   "display_name": "Python 3",
   "language": "python",
   "name": "python3"
  },
  "language_info": {
   "codemirror_mode": {
    "name": "ipython",
    "version": 3
   },
   "file_extension": ".py",
   "mimetype": "text/x-python",
   "name": "python",
   "nbconvert_exporter": "python",
   "pygments_lexer": "ipython3",
   "version": "3.6.9"
  }
 },
 "nbformat": 4,
 "nbformat_minor": 4
}
