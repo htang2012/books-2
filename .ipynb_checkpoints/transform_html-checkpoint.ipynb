{
 "cells": [
  {
   "cell_type": "code",
   "execution_count": 1,
   "metadata": {},
   "outputs": [],
   "source": [
    "import os\n",
    "import bs4\n",
    "import tqdm\n",
    "import glob\n",
    "from itertools import chain"
   ]
  },
  {
   "cell_type": "code",
   "execution_count": 5,
   "metadata": {},
   "outputs": [],
   "source": [
    "analytics_code = '''<!-- Global site tag (gtag.js) - Google Analytics -->\n",
    "<script async src=\"https://www.googletagmanager.com/gtag/js?id=UA-101184475-7\"></script>\n",
    "<script>\n",
    "  window.dataLayer = window.dataLayer || [];\n",
    "  function gtag(){dataLayer.push(arguments);}\n",
    "  gtag('js', new Date());\n",
    "\n",
    "  gtag('config', 'UA-101184475-7');\n",
    "</script>'''"
   ]
  },
  {
   "cell_type": "code",
   "execution_count": null,
   "metadata": {},
   "outputs": [],
   "source": []
  },
  {
   "cell_type": "code",
   "execution_count": 2,
   "metadata": {},
   "outputs": [
    {
     "name": "stdout",
     "output_type": "stream",
     "text": [
      "Making Search icon clickable\n"
     ]
    }
   ],
   "source": [
    "print(\"Making Search icon clickable\")"
   ]
  },
  {
   "cell_type": "code",
   "execution_count": 3,
   "metadata": {},
   "outputs": [],
   "source": [
    "file = \"docs/index.html\"\n",
    "with open(file,\"r\") as f:\n",
    "    soup = bs4.BeautifulSoup(f.read(),features=\"lxml\")"
   ]
  },
  {
   "cell_type": "code",
   "execution_count": 4,
   "metadata": {},
   "outputs": [
    {
     "data": {
      "text/plain": [
       "<!DOCTYPE html PUBLIC \"-//W3c//DTD html 4.01//EN\" \"http://www.w3c.org/tr/html4/strict.dtd\">\n",
       "<html>\n",
       "<head>\n",
       "<meta content=\"text/html; charset=utf-8\" http-equiv=\"Content-Type\"/>\n",
       "<meta content=\"yes\" name=\"apple-mobile-web-app-capable\"/>\n",
       "<meta content=\"text/html; charset=utf-8\" http-equiv=\"Content-Type\"/>\n",
       "<meta content=\"minimum-scale=1.0, width=device-width, maximum-scale=0.6667, user-scalable=no\" name=\"viewport\"/>\n",
       "<meta content=\"IE=8\" http-equiv=\"X-UA-Compatible\"/>\n",
       "<link href=\"desktop.css\" rel=\"stylesheet\" type=\"text/css\"/>\n",
       "<link href=\"mobile.css\" media=\"only screen and (max-device-width: 480px)\" rel=\"stylesheet\" type=\"text/css\"/>\n",
       "<script src=\"functions.js\" type=\"text/javascript\"></script>\n",
       "<title>Arjun Srivastava's Library </title>\n",
       "</head>\n",
       "<body style=\"\">\n",
       "<div id=\"topbar\">\n",
       "<div id=\"title\">Arjun Srivastava's Library </div>\n",
       "</div>\n",
       "<div class=\"desktop\">\n",
       "<h1>Arjun Srivastava's Library </h1>\n",
       "</div>\n",
       "<div class=\"desktop\">\n",
       "<ul id=\"breadcrumb\">\n",
       "<li>\n",
       "<a href=\"./index.html\" title=\"Arjun Srivastava's Library \">Arjun Srivastava's Library </a>\n",
       "</li>\n",
       "<li>Arjun Srivastava's Library </li>\n",
       "</ul>\n",
       "</div>\n",
       "<div class=\"browseByList\">\n",
       "<div class=\"x_menulisting\" id=\"Calibre2opds:authorlist\">\n",
       "<div class=\"cover\">\n",
       "<a href=\"./authorlist/authorlist_Page_1.html\" title=\"Authors\"><img border=\"0\" src=\"./authors.png\"/></a>\n",
       "</div>\n",
       "<div class=\"details\">\n",
       "<a href=\"./authorlist/authorlist_Page_1.html\">Authors</a>\n",
       "<br/>\n",
       "<small>Alphabetical index of the 368 authors</small>\n",
       "</div>\n",
       "</div>\n",
       "<div class=\"x_menulisting\" id=\"Calibre2opds::serieslist\">\n",
       "<div class=\"cover\">\n",
       "<a href=\"./serieslist/serieslist_Page_1.html\" title=\"Series\"><img border=\"0\" src=\"./series.png\"/></a>\n",
       "</div>\n",
       "<div class=\"details\">\n",
       "<a href=\"./serieslist/serieslist_Page_1.html\">Series</a>\n",
       "<br/>\n",
       "<small>Alphabetical index of the 6 series</small>\n",
       "</div>\n",
       "</div>\n",
       "<div class=\"x_menulisting\" id=\"Calibre2opds:recent\">\n",
       "<div class=\"cover\">\n",
       "<a href=\"./recent/recent_Page_1.html\" title=\"Recent additions\"><img border=\"0\" src=\"./recent.png\"/></a>\n",
       "</div>\n",
       "<div class=\"details\">\n",
       "<a href=\"./recent/recent_Page_1.html\">Recent additions</a>\n",
       "<br/>\n",
       "<small>406 most recent books</small>\n",
       "</div>\n",
       "</div>\n",
       "<div class=\"x_menulisting\" id=\"Calibre2opds:allbooks\">\n",
       "<div class=\"cover\">\n",
       "<a href=\"./allbooks/allbooks_Page_1.html\" title=\"All books\"><img border=\"0\" src=\"./allbooks.png\"/></a>\n",
       "</div>\n",
       "<div class=\"details\">\n",
       "<a href=\"./allbooks/allbooks_Page_1.html\">All books</a>\n",
       "<br/>\n",
       "<small>Alphabetical index of the 406 books</small>\n",
       "</div>\n",
       "</div>\n",
       "</div>\n",
       "<div class=\"x_menulisting\" id=\"calibre:search\">\n",
       "<div class=\"cover\">\n",
       "<img src=\"search.png\"/>\n",
       "</div>\n",
       "<div class=\"details\">\n",
       "<a href=\"./search/search.html\" title=\"Search the books\">Search the books</a>\n",
       "<br/>\n",
       "<small>Search the full-text index of the books (work in progress!)</small>\n",
       "</div>\n",
       "</div>\n",
       "<hr/>\n",
       "<div class=\"thanks\">\n",
       "<small>\n",
       "</small><p class=\"dateGenerated\">Last updated on  Apr 4, 2020  (406 books)</p>\n",
       "</div>\n",
       "</body>\n",
       "</html>"
      ]
     },
     "execution_count": 4,
     "metadata": {},
     "output_type": "execute_result"
    }
   ],
   "source": [
    "soup"
   ]
  },
  {
   "cell_type": "code",
   "execution_count": null,
   "metadata": {},
   "outputs": [],
   "source": [
    "print(\"Formatting last updated\")"
   ]
  },
  {
   "cell_type": "code",
   "execution_count": null,
   "metadata": {},
   "outputs": [],
   "source": [
    "files = glob.glob(\"docs/*.html\")"
   ]
  },
  {
   "cell_type": "code",
   "execution_count": null,
   "metadata": {},
   "outputs": [],
   "source": [
    "for file in tqdm.tqdm(files):\n",
    "    try:    \n",
    "        with open(file,\"r\") as f:\n",
    "            soup = bs4.BeautifulSoup(f.read(),features=\"lxml\")\n",
    "            p = soup.select(\".dateGenerated\")[0]\n",
    "            p.string = f\"Last updated on {p.text.strip().split('on')[1]}\"\n",
    "        with open(file,\"w\") as f:    \n",
    "            f.write(str(soup))\n",
    "    except Exception as e:\n",
    "        print(f\"error formatting last updated {file}\",e)"
   ]
  },
  {
   "cell_type": "code",
   "execution_count": null,
   "metadata": {},
   "outputs": [],
   "source": [
    "print(\"Deleting footers\")"
   ]
  },
  {
   "cell_type": "code",
   "execution_count": null,
   "metadata": {},
   "outputs": [],
   "source": [
    "#files = chain(glob.glob(\"docs/*/*.html\"), glob.glob(\"docs/*.html\"))\n",
    "files = list(glob.glob(\"docs/*/*.html\"))\n",
    "files.extend(glob.glob(\"docs/*.html\"))\n",
    "for file in tqdm.tqdm(files):\n",
    "    try:    \n",
    "        with open(file,\"r\") as f:\n",
    "            soup = bs4.BeautifulSoup(f.read(),features=\"lxml\")\n",
    "            soup.find(id=\"footer\").decompose()\n",
    "        with open(file,\"w\") as f:    \n",
    "            f.write(str(soup))\n",
    "    except Exception as e:\n",
    "        if file not in  [\"docs/search/search.html\",\"docs/header.html\"]:\n",
    "            print(f\"error deleting footer html {file}\",e)"
   ]
  },
  {
   "cell_type": "code",
   "execution_count": null,
   "metadata": {},
   "outputs": [],
   "source": [
    "print(\"Fixing Titles\")"
   ]
  },
  {
   "cell_type": "code",
   "execution_count": null,
   "metadata": {},
   "outputs": [],
   "source": [
    "file_path  = [f\"./docs/book_0/{i}\" for i in os.listdir(\"docs/book_0\") if i[-4:]==\"html\"]"
   ]
  },
  {
   "cell_type": "code",
   "execution_count": null,
   "metadata": {},
   "outputs": [],
   "source": [
    "author_t = \" div.fullEntry_title > h1 > small > em > small > em > a\"\n",
    "title_t = \" div.fullEntry_title > h1\""
   ]
  },
  {
   "cell_type": "code",
   "execution_count": null,
   "metadata": {},
   "outputs": [],
   "source": [
    "for file in tqdm.tqdm(file_path):\n",
    "    try:    \n",
    "        with open(file,\"r\") as f:\n",
    "            soup = bs4.BeautifulSoup(f.read(),features=\"lxml\")\n",
    "            p = soup.select(\".x_container\")[0]\n",
    "            author = p.select(author_t)[0].text\n",
    "            title = p.select(title_t)[0].text.split(\"\\n\")[1].strip()\n",
    "            soup.head.title.string = f\"{title}, By {author} | {soup.head.title.string}\"\n",
    "        with open(file,\"w\") as f:    \n",
    "            f.write(str(soup))\n",
    "    except Exception as e:\n",
    "         print(f\"error: html {file}\",e,file)\n",
    "        \n"
   ]
  },
  {
   "cell_type": "code",
   "execution_count": null,
   "metadata": {},
   "outputs": [],
   "source": []
  }
 ],
 "metadata": {
  "kernelspec": {
   "display_name": "Python 3",
   "language": "python",
   "name": "python3"
  },
  "language_info": {
   "codemirror_mode": {
    "name": "ipython",
    "version": 3
   },
   "file_extension": ".py",
   "mimetype": "text/x-python",
   "name": "python",
   "nbconvert_exporter": "python",
   "pygments_lexer": "ipython3",
   "version": "3.6.9"
  }
 },
 "nbformat": 4,
 "nbformat_minor": 4
}
