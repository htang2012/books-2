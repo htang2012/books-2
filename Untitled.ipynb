{
 "cells": [
  {
   "cell_type": "code",
   "execution_count": 20,
   "metadata": {},
   "outputs": [],
   "source": [
    "import os\n",
    "import bs4\n",
    "import tqdm"
   ]
  },
  {
   "cell_type": "code",
   "execution_count": 21,
   "metadata": {},
   "outputs": [],
   "source": [
    "file_path  = [f\"./docs/book_0/{i}\" for i in os.listdir(\"docs/book_0\") if i[-4:]==\"html\"]"
   ]
  },
  {
   "cell_type": "code",
   "execution_count": 22,
   "metadata": {},
   "outputs": [],
   "source": [
    "author_t = \" div.fullEntry_title > h1 > small > em > small > em > a\"\n",
    "title_t = \" div.fullEntry_title > h1\""
   ]
  },
  {
   "cell_type": "code",
   "execution_count": 23,
   "metadata": {},
   "outputs": [],
   "source": [
    "file = file_path[1]"
   ]
  },
  {
   "cell_type": "code",
   "execution_count": 24,
   "metadata": {},
   "outputs": [
    {
     "name": "stderr",
     "output_type": "stream",
     "text": [
      "  0%|          | 0/406 [00:00<?, ?it/s]\n"
     ]
    },
    {
     "ename": "AttributeError",
     "evalue": "'NoneType' object has no attribute 'decompose'",
     "output_type": "error",
     "traceback": [
      "\u001b[0;31m---------------------------------------------------------------------------\u001b[0m",
      "\u001b[0;31mAttributeError\u001b[0m                            Traceback (most recent call last)",
      "\u001b[0;32m<ipython-input-24-1610cd635e00>\u001b[0m in \u001b[0;36m<module>\u001b[0;34m\u001b[0m\n\u001b[1;32m      6\u001b[0m         \u001b[0mtitle\u001b[0m \u001b[0;34m=\u001b[0m \u001b[0mp\u001b[0m\u001b[0;34m.\u001b[0m\u001b[0mselect\u001b[0m\u001b[0;34m(\u001b[0m\u001b[0mtitle_t\u001b[0m\u001b[0;34m)\u001b[0m\u001b[0;34m[\u001b[0m\u001b[0;36m0\u001b[0m\u001b[0;34m]\u001b[0m\u001b[0;34m.\u001b[0m\u001b[0mtext\u001b[0m\u001b[0;34m.\u001b[0m\u001b[0msplit\u001b[0m\u001b[0;34m(\u001b[0m\u001b[0;34m\"\\n\"\u001b[0m\u001b[0;34m)\u001b[0m\u001b[0;34m[\u001b[0m\u001b[0;36m1\u001b[0m\u001b[0;34m]\u001b[0m\u001b[0;34m.\u001b[0m\u001b[0mstrip\u001b[0m\u001b[0;34m(\u001b[0m\u001b[0;34m)\u001b[0m\u001b[0;34m\u001b[0m\u001b[0;34m\u001b[0m\u001b[0m\n\u001b[1;32m      7\u001b[0m         \u001b[0msoup\u001b[0m\u001b[0;34m.\u001b[0m\u001b[0mhead\u001b[0m\u001b[0;34m.\u001b[0m\u001b[0mtitle\u001b[0m\u001b[0;34m.\u001b[0m\u001b[0mstring\u001b[0m \u001b[0;34m=\u001b[0m \u001b[0;34mf\"{title}, By {author} | {soup.head.title.string}\"\u001b[0m\u001b[0;34m\u001b[0m\u001b[0;34m\u001b[0m\u001b[0m\n\u001b[0;32m----> 8\u001b[0;31m         \u001b[0msoup\u001b[0m\u001b[0;34m.\u001b[0m\u001b[0mfind\u001b[0m\u001b[0;34m(\u001b[0m\u001b[0mid\u001b[0m\u001b[0;34m=\u001b[0m\u001b[0;34m\"footer\"\u001b[0m\u001b[0;34m)\u001b[0m\u001b[0;34m.\u001b[0m\u001b[0mdecompose\u001b[0m\u001b[0;34m(\u001b[0m\u001b[0;34m)\u001b[0m\u001b[0;34m\u001b[0m\u001b[0;34m\u001b[0m\u001b[0m\n\u001b[0m\u001b[1;32m      9\u001b[0m \u001b[0;34m\u001b[0m\u001b[0m\n\u001b[1;32m     10\u001b[0m     \u001b[0;32mwith\u001b[0m \u001b[0mopen\u001b[0m\u001b[0;34m(\u001b[0m\u001b[0mfile\u001b[0m\u001b[0;34m,\u001b[0m\u001b[0;34m\"w\"\u001b[0m\u001b[0;34m)\u001b[0m \u001b[0;32mas\u001b[0m \u001b[0mf\u001b[0m\u001b[0;34m:\u001b[0m\u001b[0;34m\u001b[0m\u001b[0;34m\u001b[0m\u001b[0m\n",
      "\u001b[0;31mAttributeError\u001b[0m: 'NoneType' object has no attribute 'decompose'"
     ]
    }
   ],
   "source": [
    "for file in tqdm.tqdm(file_path):\n",
    "    with open(file,\"r\") as f:\n",
    "        soup = bs4.BeautifulSoup(f.read())\n",
    "        p = soup.select(\".x_container\")[0]\n",
    "        author = p.select(author_t)[0].text\n",
    "        title = p.select(title_t)[0].text.split(\"\\n\")[1].strip()\n",
    "        soup.head.title.string = f\"{title}, By {author} | {soup.head.title.string}\"\n",
    "        try:\n",
    "            soup.find(id=\"footer\").decompose()\n",
    "        exept\n",
    "\n",
    "    with open(file,\"w\") as f:    \n",
    "        f.write(str(soup))\n"
   ]
  },
  {
   "cell_type": "code",
   "execution_count": 15,
   "metadata": {},
   "outputs": [
    {
     "data": {
      "text/plain": [
       "'./docs/book_0/book_540.html'"
      ]
     },
     "execution_count": 15,
     "metadata": {},
     "output_type": "execute_result"
    }
   ],
   "source": [
    "file"
   ]
  },
  {
   "cell_type": "code",
   "execution_count": 16,
   "metadata": {},
   "outputs": [
    {
     "data": {
      "text/plain": [
       "<head>\n",
       "<meta content=\"text/html; charset=utf-8\" http-equiv=\"Content-Type\"/>\n",
       "<meta content=\"yes\" name=\"apple-mobile-web-app-capable\"/>\n",
       "<meta content=\"text/html; charset=utf-8\" http-equiv=\"Content-Type\"/>\n",
       "<meta content=\"minimum-scale=1.0, width=device-width, maximum-scale=0.6667, user-scalable=no\" name=\"viewport\"/>\n",
       "<meta content=\"IE=8\" http-equiv=\"X-UA-Compatible\"/>\n",
       "<link href=\"../desktop.css\" rel=\"stylesheet\" type=\"text/css\"/>\n",
       "<link href=\"../mobile.css\" media=\"only screen and (max-device-width: 480px)\" rel=\"stylesheet\" type=\"text/css\"/>\n",
       "<script src=\"../functions.js\" type=\"text/javascript\"></script>\n",
       "<title>Mistakes Were Made (But Not by Me), By Carol Tavris | Arjun Srivastava's Library </title>\n",
       "<script type=\"text/javascript\">function showHide(id, btn) { var e = document.getElementById(id); if (e.style.display == 'none') { e.style.display = 'block'; } else { e.style.display = 'none'; } } </script><script type=\"text/javascript\">function getBaseURL() {var url = location.href;var baseURL = url.substring(0, url.lastIndexOf('/'));if (baseURL.indexOf('http://localhost') != -1) {var url = location.href;var pathname = location.pathname;var index1 = url.indexOf(pathname);var index2 = url.indexOf(\"/\", index1 + 1);var baseLocalUrl = url.substr(0, index2);return baseLocalUrl + \"/\";} else {return baseURL + \"/\";}}</script>\n",
       "</head>"
      ]
     },
     "execution_count": 16,
     "metadata": {},
     "output_type": "execute_result"
    }
   ],
   "source": [
    "soup.head"
   ]
  },
  {
   "cell_type": "code",
   "execution_count": 10,
   "metadata": {
    "scrolled": false
   },
   "outputs": [
    {
     "data": {
      "text/plain": [
       "<!DOCTYPE html PUBLIC \"-//W3c//DTD html 4.01//EN\" \"http://www.w3c.org/tr/html4/strict.dtd\">\n",
       "<html>\n",
       "<head>\n",
       "<meta content=\"text/html; charset=utf-8\" http-equiv=\"Content-Type\"/>\n",
       "<meta content=\"yes\" name=\"apple-mobile-web-app-capable\"/>\n",
       "<meta content=\"text/html; charset=utf-8\" http-equiv=\"Content-Type\"/>\n",
       "<meta content=\"minimum-scale=1.0, width=device-width, maximum-scale=0.6667, user-scalable=no\" name=\"viewport\"/>\n",
       "<meta content=\"IE=8\" http-equiv=\"X-UA-Compatible\"/>\n",
       "<link href=\"../desktop.css\" rel=\"stylesheet\" type=\"text/css\"/>\n",
       "<link href=\"../mobile.css\" media=\"only screen and (max-device-width: 480px)\" rel=\"stylesheet\" type=\"text/css\"/>\n",
       "<script src=\"../functions.js\" type=\"text/javascript\"></script>\n",
       "<title>Mistakes Were Made (But Not by Me), By Carol Tavris | Arjun Srivastava's Library </title>\n",
       "<script type=\"text/javascript\">function showHide(id, btn) { var e = document.getElementById(id); if (e.style.display == 'none') { e.style.display = 'block'; } else { e.style.display = 'none'; } } </script><script type=\"text/javascript\">function getBaseURL() {var url = location.href;var baseURL = url.substring(0, url.lastIndexOf('/'));if (baseURL.indexOf('http://localhost') != -1) {var url = location.href;var pathname = location.pathname;var index1 = url.indexOf(pathname);var index2 = url.indexOf(\"/\", index1 + 1);var baseLocalUrl = url.substr(0, index2);return baseLocalUrl + \"/\";} else {return baseURL + \"/\";}}</script>\n",
       "</head>\n",
       "<body style=\"\">\n",
       "<div id=\"topbar\">\n",
       "<div id=\"title\">Arjun Srivastava's Library </div>\n",
       "<div id=\"leftnav\">\n",
       "<a href=\"../index.html\"><img alt=\"home\" src=\"../homeIwebKit.png\"/></a>\n",
       "</div>\n",
       "</div>\n",
       "<div class=\"desktop\">\n",
       "<h1>Arjun Srivastava's Library </h1>\n",
       "</div>\n",
       "<iframe frameborder=\"0\" height=\"35\" longdesc=\"headerInfo\" scrolling=\"no\" src=\"../header.html\">\n",
       "            Browser not compatible.\n",
       "        </iframe>\n",
       "<div class=\"desktop\">\n",
       "<ul id=\"breadcrumb\">\n",
       "<li>\n",
       "<a href=\"../index.html\" title=\"Arjun Srivastava's Library \">Arjun Srivastava's Library </a>\n",
       "</li>\n",
       "<li>\n",
       "<a href=\"../authorlist/authorlist_Page_1.html\" title=\"Authors\">Authors</a>\n",
       "</li>\n",
       "<li>\n",
       "<a href=\"../authorlist/authorlist_C_Page_1.html\" title=\"Authors starting with C\">Authors starting with C</a>\n",
       "</li>\n",
       "<li>Mistakes Were Made (But Not by Me)</li>\n",
       "</ul>\n",
       "</div>\n",
       "<div class=\"browseByList\">\n",
       "<div class=\"x_container\" id=\"urn:book:93632db3-8d1d-4c53-9209-de33e0840e09\">\n",
       "<div class=\"fullEntry_title\">\n",
       "<h1>\n",
       "                        Mistakes Were Made (But Not by Me)\n",
       "                        <br/>\n",
       "<small><em><small><em><a href=\"../author_0/author_288_Page_1.html\">Carol Tavris</a></em></small></em></small>\n",
       "</h1>\n",
       "</div>\n",
       "<div class=\"fullEntry_downloads\">\n",
       "<h2 class=\"fullEntry_sectionHeader\">Downloads</h2>\n",
       "<ul>\n",
       "<li>\n",
       "<a href=\"https://raw.githubusercontent.com/arjunbazinga/books/master/Carol%20Tavris/Mistakes%20Were%20Made%20%28But%20Not%20by%20Me%29%20%28540%29/Mistakes%20Were%20Made%20%28But%20Not%20by%20Me%29%20-%20Carol%20Tavris.epub\">Download this ebook as EPUB</a>\n",
       "</li>\n",
       "<li>\n",
       "<a href=\"https://raw.githubusercontent.com/arjunbazinga/books/master/Carol%20Tavris/Mistakes%20Were%20Made%20%28But%20Not%20by%20Me%29%20%28540%29/Mistakes%20Were%20Made%20%28But%20Not%20by%20Me%29%20-%20Carol%20Tavris.pdf\">Download this ebook as PDF</a>\n",
       "</li>\n",
       "<li>\n",
       "<a href=\"https://raw.githubusercontent.com/arjunbazinga/books/master/Carol%20Tavris/Mistakes%20Were%20Made%20%28But%20Not%20by%20Me%29%20%28540%29/Mistakes%20Were%20Made%20%28But%20Not%20by%20Me%29%20-%20Carol%20Tavris.mobi\">Download this ebook as MOBI</a>\n",
       "</li>\n",
       "</ul>\n",
       "</div>\n",
       "<div class=\"fullEntry_cover\">\n",
       "<h2 class=\"fullEntry_sectionHeader\">Cover</h2>\n",
       "<img alt=\"Mistakes Were Made (But Not by Me)\" height=\"550\" src=\"https://raw.githubusercontent.com/arjunbazinga/books/master/Carol%20Tavris/Mistakes%20Were%20Made%20%28But%20Not%20by%20Me%29%20%28540%29/c2o_resizedcover.jpg\" width=\"366\"/>\n",
       "</div>\n",
       "<div class=\"fullEntry_summary\">\n",
       "<h2 class=\"fullEntry_sectionHeader\">Description</h2>\n",
       "<p>\n",
       "<content type=\"text/html\" xmlns=\"http://www.w3.org/2005/Atom\" xmlns:dcterms=\"http://purl.org/dc/terms\" xmlns:xhtml=\"http://www.w3.org/1999/xhtml\">\n",
       "<p>\n",
       "<strong>Rating: </strong>Not rated\n",
       "                            </p>\n",
       "<p>\n",
       "<strong>Tags: </strong>Lang:en\n",
       "                            </p>\n",
       "<p>\n",
       "<strong>Publisher: </strong>Houghton Mifflin Harcourt\n",
       "                            </p>\n",
       "<p>\n",
       "<strong>Added: </strong>November 4, 2018\n",
       "                            </p>\n",
       "<p>\n",
       "<strong>Modified: </strong>March 28, 2020\n",
       "                            </p>\n",
       "<p>\n",
       "<strong>Summary</strong>\n",
       "</p>\n",
       "<p xmlns=\"\">\n",
       "                                Why do people dodge responsibility when things fall apart?\n",
       "    Why the parade of public figures unable to own up when they\n",
       "    screw up? Why the endless marital quarrels over who is right?\n",
       "    Why can we see hypocrisy in others but not in ourselves? Are we\n",
       "    all liars? Or do we really believe the stories we tell? Backed\n",
       "    by years of research and delivered in lively, energetic prose, \n",
       "    <i>Mistakes Were Made (But Not by</i> Me\n",
       "    <i>)</i> offers a fascinating explanation of\n",
       "    self-deception—how it works, the harm it can cause, and\n",
       "    how we can overcome it.\n",
       "                            </p>\n",
       "</content>\n",
       "</p>\n",
       "</div>\n",
       "<div class=\"fullEntry_related\"></div>\n",
       "<div class=\"fullEntry_links\">\n",
       "<h2 class=\"fullEntry_sectionHeader\">External links</h2>\n",
       "<ul>\n",
       "<li>\n",
       "<a href=\"http://www.goodreads.com/book/title/Mistakes%20Were%20Made%20%28But%20Not%20by%20Me%29\">This book on Goodreads</a>\n",
       "</li>\n",
       "<li>\n",
       "<a href=\"http://en.wikipedia.org/wiki/Mistakes%20Were%20Made%20%28But%20Not%20by%20Me%29\">This book on Wikipedia</a>\n",
       "</li>\n",
       "<li>\n",
       "<a href=\"http://www.librarything.com/title/Mistakes%20Were%20Made%20%28But%20Not%20by%20Me%29%20Carol%20Tavris\">This book on LibraryThing</a>\n",
       "</li>\n",
       "<li>\n",
       "<a href=\"http://www.amazon.com/gp/search/ref=sr_adv_b/?search-alias=stripbooks&amp;unfiltered=1&amp;sort=relevanceexprank&amp;field-title=Mistakes%20Were%20Made%20%28But%20Not%20by%20Me%29&amp;field-author=Carol%20Tavris\">This book on Amazon</a>\n",
       "</li>\n",
       "<li>\n",
       "<a href=\"http://www.goodreads.com/book/author/Carol%20Tavris\">Carol Tavris on Goodreads</a>\n",
       "</li>\n",
       "<li>\n",
       "<a href=\"http://en.wikipedia.org/wiki/Carol%20Tavris\">Carol Tavris on Wikipedia</a>\n",
       "</li>\n",
       "<li>\n",
       "<a href=\"http://www.librarything.com/author/TavrisCarol\">Carol Tavris on LibraryThing</a>\n",
       "</li>\n",
       "<li>\n",
       "<a href=\"http://www.amazon.com/gp/search/ref=sr_adv_b/?search-alias=stripbooks&amp;unfiltered=1&amp;sort=relevanceexprank&amp;field-author=Carol%20Tavris\">Carol Tavris on Amazon</a>\n",
       "</li>\n",
       "<li>\n",
       "<a href=\"http://www.isfdb.org/cgi-bin/ea.cgi?Carol%20Tavris\">Carol Tavris on ISFDB</a>\n",
       "</li>\n",
       "</ul>\n",
       "</div>\n",
       "</div>\n",
       "</div>\n",
       "\n",
       "</body>\n",
       "</html>"
      ]
     },
     "execution_count": 10,
     "metadata": {},
     "output_type": "execute_result"
    }
   ],
   "source": [
    "soup"
   ]
  },
  {
   "cell_type": "code",
   "execution_count": null,
   "metadata": {},
   "outputs": [],
   "source": [
    "soup.head.title"
   ]
  },
  {
   "cell_type": "code",
   "execution_count": null,
   "metadata": {},
   "outputs": [],
   "source": []
  },
  {
   "cell_type": "code",
   "execution_count": null,
   "metadata": {},
   "outputs": [],
   "source": [
    "title"
   ]
  },
  {
   "cell_type": "code",
   "execution_count": null,
   "metadata": {},
   "outputs": [],
   "source": []
  },
  {
   "cell_type": "code",
   "execution_count": null,
   "metadata": {},
   "outputs": [],
   "source": []
  },
  {
   "cell_type": "code",
   "execution_count": null,
   "metadata": {},
   "outputs": [],
   "source": [
    "soup.select(t)"
   ]
  },
  {
   "cell_type": "code",
   "execution_count": null,
   "metadata": {},
   "outputs": [],
   "source": [
    "soup//*[@id=\"urn:book:71953f4d-6973-43b0-8646-e84e53e18942\"]/div[1]/h1/small/em/small/em/a"
   ]
  },
  {
   "cell_type": "code",
   "execution_count": null,
   "metadata": {},
   "outputs": [],
   "source": [
    "with open(\"output1.html\", \"w\", encoding='utf-8') as file:\n",
    "    file.write(str(soup))"
   ]
  },
  {
   "cell_type": "code",
   "execution_count": null,
   "metadata": {},
   "outputs": [],
   "source": [
    "! cat $file"
   ]
  },
  {
   "cell_type": "code",
   "execution_count": null,
   "metadata": {},
   "outputs": [],
   "source": [
    "! ls docs/"
   ]
  },
  {
   "cell_type": "code",
   "execution_count": null,
   "metadata": {},
   "outputs": [],
   "source": []
  }
 ],
 "metadata": {
  "kernelspec": {
   "display_name": "Python 3",
   "language": "python",
   "name": "python3"
  },
  "language_info": {
   "codemirror_mode": {
    "name": "ipython",
    "version": 3
   },
   "file_extension": ".py",
   "mimetype": "text/x-python",
   "name": "python",
   "nbconvert_exporter": "python",
   "pygments_lexer": "ipython3",
   "version": "3.6.9"
  }
 },
 "nbformat": 4,
 "nbformat_minor": 4
}
