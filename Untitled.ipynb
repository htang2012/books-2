{
 "cells": [
  {
   "cell_type": "code",
   "execution_count": 45,
   "metadata": {},
   "outputs": [],
   "source": [
    "import os\n",
    "import bs4"
   ]
  },
  {
   "cell_type": "code",
   "execution_count": 46,
   "metadata": {},
   "outputs": [],
   "source": [
    "file_path  = [f\"./docs/book_0/{i}\" for i in os.listdir(\"docs/book_0\") if i[-4:]==\"html\"]"
   ]
  },
  {
   "cell_type": "code",
   "execution_count": 47,
   "metadata": {},
   "outputs": [],
   "source": [
    "file = file_path[0]"
   ]
  },
  {
   "cell_type": "code",
   "execution_count": 48,
   "metadata": {},
   "outputs": [],
   "source": [
    "with open(file) as f:\n",
    "    s = f.read()"
   ]
  },
  {
   "cell_type": "code",
   "execution_count": 78,
   "metadata": {},
   "outputs": [],
   "source": [
    "soup = bs4.BeautifulSoup(s)"
   ]
  },
  {
   "cell_type": "code",
   "execution_count": null,
   "metadata": {},
   "outputs": [],
   "source": []
  },
  {
   "cell_type": "code",
   "execution_count": 84,
   "metadata": {},
   "outputs": [],
   "source": [
    "soup.head.title.string += \"hello\""
   ]
  },
  {
   "cell_type": "code",
   "execution_count": 85,
   "metadata": {},
   "outputs": [
    {
     "data": {
      "text/plain": [
       "<title>hellohello</title>"
      ]
     },
     "execution_count": 85,
     "metadata": {},
     "output_type": "execute_result"
    }
   ],
   "source": [
    "soup.head.title"
   ]
  },
  {
   "cell_type": "code",
   "execution_count": 101,
   "metadata": {},
   "outputs": [
    {
     "data": {
      "text/plain": [
       "<div id=\"footer\">\n",
       "<a class=\"noeffect\" href=\"http://snippetspace.com\">Powered by iWebKit</a>\n",
       "</div>"
      ]
     },
     "execution_count": 101,
     "metadata": {},
     "output_type": "execute_result"
    }
   ],
   "source": [
    "soup.find(id=\"footer\")"
   ]
  },
  {
   "cell_type": "code",
   "execution_count": 91,
   "metadata": {},
   "outputs": [],
   "source": [
    "with open(\"output1.html\", \"w\", encoding='utf-8') as file:\n",
    "    file.write(str(soup))"
   ]
  },
  {
   "cell_type": "code",
   "execution_count": 30,
   "metadata": {},
   "outputs": [
    {
     "name": "stdout",
     "output_type": "stream",
     "text": [
      "<!DOCTYPE html PUBLIC \"-//W3c//DTD html 4.01//EN\" \"http://www.w3c.org/tr/html4/strict.dtd\">\r\n",
      "<html>\r\n",
      "    <head>\r\n",
      "        <META http-equiv=\"Content-Type\" content=\"text/html; charset=UTF-8\">\r\n",
      "        <meta content=\"yes\" name=\"apple-mobile-web-app-capable\">\r\n",
      "        <meta content=\"text/html; charset=utf-8\" http-equiv=\"Content-Type\">\r\n",
      "        <meta content=\"minimum-scale=1.0, width=device-width, maximum-scale=0.6667, user-scalable=no\" name=\"viewport\">\r\n",
      "        <meta content=\"IE=8\" http-equiv=\"X-UA-Compatible\">\r\n",
      "        <link type=\"text/css\" rel=\"stylesheet\" href=\"../desktop.css\">\r\n",
      "        <link type=\"text/css\" rel=\"stylesheet\" media=\"only screen and (max-device-width: 480px)\" href=\"../mobile.css\">\r\n",
      "        <script src=\"../functions.js\" type=\"text/javascript\"></script>\r\n",
      "        <title>Arjun Srivastava's Library </title>\r\n",
      "        <script type=\"text/javascript\">function showHide(id, btn) { var e = document.getElementById(id); if (e.style.display == 'none') { e.style.display = 'block'; } else { e.style.display = 'none'; } } </script><script type=\"text/javascript\">function getBaseURL() {var url = location.href;var baseURL = url.substring(0, url.lastIndexOf('/'));if (baseURL.indexOf('http://localhost') != -1) {var url = location.href;var pathname = location.pathname;var index1 = url.indexOf(pathname);var index2 = url.indexOf(\"/\", index1 + 1);var baseLocalUrl = url.substr(0, index2);return baseLocalUrl + \"/\";} else {return baseURL + \"/\";}}</script>\r\n",
      "    </head>\r\n",
      "    <body style=\"\">\r\n",
      "        <div id=\"topbar\">\r\n",
      "            <div id=\"title\">Arjun Srivastava's Library </div>\r\n",
      "            <div id=\"leftnav\">\r\n",
      "                <a href=\"../index.html\"><img alt=\"home\" src=\"../homeIwebKit.png\"></a>\r\n",
      "            </div>\r\n",
      "        </div>\r\n",
      "        <div class=\"desktop\">\r\n",
      "            <h1>Arjun Srivastava's Library </h1>\r\n",
      "        </div>\r\n",
      "        <iframe src=\"../header.html\" longdesc=\"headerInfo\" frameBorder=\"0\" scrolling=\"no\" height=\"35\">\r\n",
      "            Browser not compatible.\r\n",
      "        </iframe>\r\n",
      "        <div class=\"desktop\">\r\n",
      "            <ul id=\"breadcrumb\">\r\n",
      "                <li>\r\n",
      "                    <a href=\"../index.html\" title=\"Arjun Srivastava's Library \">Arjun Srivastava's Library </a>\r\n",
      "                </li>\r\n",
      "                <li>\r\n",
      "                    <a href=\"../authorlist/authorlist_Page_1.html\" title=\"Authors\">Authors</a>\r\n",
      "                </li>\r\n",
      "                <li>\r\n",
      "                    <a href=\"../authorlist/authorlist_T_Page_1.html\" title=\"Authors starting with T\">Authors starting with T</a>\r\n",
      "                </li>\r\n",
      "                <li>The Unabomber Manifesto: Industrial Society and Its Future</li>\r\n",
      "            </ul>\r\n",
      "        </div>\r\n",
      "        <div class=\"browseByList\">\r\n",
      "            <div class=\"x_container\" id=\"urn:book:9aed9b11-0535-4843-9629-651e17efffea\">\r\n",
      "                <div class=\"fullEntry_title\">\r\n",
      "                    <h1>\r\n",
      "                        The Unabomber Manifesto: Industrial Society and Its Future\r\n",
      "                        <br>\r\n",
      "                        <small><em><small><em><a href=\"../author_0/author_450_Page_1.html\">Theodore Kaczynski</a></em></small></em></small>\r\n",
      "                    </h1>\r\n",
      "                </div>\r\n",
      "                <div class=\"fullEntry_downloads\">\r\n",
      "                    <h2 class=\"fullEntry_sectionHeader\">Downloads</h2>\r\n",
      "                    <ul>\r\n",
      "                        <li>\r\n",
      "                            <a href=\"https://raw.githubusercontent.com/arjunbazinga/books/master/Theodore%20Kaczynski/The%20Unabomber%20Manifesto_%20Industrial%20Society%20and%20Its%20Future%20%28725%29/The%20Unabomber%20Manifesto_%20Industrial%20Societ%20-%20Theodore%20Kaczynski.epub\">Download this ebook as EPUB</a>\r\n",
      "                        </li>\r\n",
      "                        <li>\r\n",
      "                            <a href=\"https://raw.githubusercontent.com/arjunbazinga/books/master/Theodore%20Kaczynski/The%20Unabomber%20Manifesto_%20Industrial%20Society%20and%20Its%20Future%20%28725%29/The%20Unabomber%20Manifesto_%20Industrial%20Societ%20-%20Theodore%20Kaczynski.pdf\">Download this ebook as PDF</a>\r\n",
      "                        </li>\r\n",
      "                    </ul>\r\n",
      "                </div>\r\n",
      "                <div class=\"fullEntry_cover\">\r\n",
      "                    <h2 class=\"fullEntry_sectionHeader\">Cover</h2>\r\n",
      "                    <img width=\"366\" height=\"550\" alt=\"The Unabomber Manifesto: Industrial Society and Its Future\" src=\"https://raw.githubusercontent.com/arjunbazinga/books/master/Theodore%20Kaczynski/The%20Unabomber%20Manifesto_%20Industrial%20Society%20and%20Its%20Future%20%28725%29/c2o_resizedcover.jpg\">\r\n",
      "                </div>\r\n",
      "                <div class=\"fullEntry_summary\">\r\n",
      "                    <h2 class=\"fullEntry_sectionHeader\">Description</h2>\r\n",
      "                    <p>\r\n",
      "                        <content xmlns=\"http://www.w3.org/2005/Atom\" xmlns:dcterms=\"http://purl.org/dc/terms\" xmlns:xhtml=\"http://www.w3.org/1999/xhtml\" type=\"text/html\">\r\n",
      "                            <p>\r\n",
      "                                <strong>Rating: </strong>Not rated\r\n",
      "                            </p>\r\n",
      "                            <p>\r\n",
      "                                <strong>Tags: </strong>Lang:en\r\n",
      "                            </p>\r\n",
      "                            <p>\r\n",
      "                                <strong>Added: </strong>March 28, 2020\r\n",
      "                            </p>\r\n",
      "                            <p>\r\n",
      "                                <strong>Modified: </strong>March 28, 2020\r\n",
      "                            </p>\r\n",
      "                            <p>\r\n",
      "                                <strong>Summary</strong>\r\n",
      "                            </p>\r\n",
      "                            <span xmlns=\"\" class=\"Apple-style-span\" style=\"font-family: verdana, arial, helvetica, sans-serif; font-size: small;\">Theodore\r\n",
      "    John Kaczynski is an American mathematician and eventual\r\n",
      "    neo-Luddite social critic who carried out a campaign of mail\r\n",
      "    bombings. Kaczynski excelled in academics from an early age\r\n",
      "    received and undergraduate degree from Harvard University and\r\n",
      "    earned a PhD in mathematics from the University of Michigan. He\r\n",
      "    became an assistant professor at the University of California,\r\n",
      "    Berkeley, at age 25, but resigned two years later.\r\n",
      "    \r\n",
      "                                <br>\r\n",
      "                                    \r\n",
      "                                <br>\r\n",
      "                                In 1971, he moved to a remote cabin without electricity\r\n",
      "    or running water, in Lincoln, Montana, where he began to learn\r\n",
      "    survival skills in an attempt to become self-sufficient. He\r\n",
      "    decided to begin a bombing campaign after watching the\r\n",
      "    wilderness around his home get destroyed by development. From\r\n",
      "    1978 to 1995, Kaczynski sent 16 bombs to targets including\r\n",
      "    universities and airlines, killing three people and injuring\r\n",
      "    23.\r\n",
      "    \r\n",
      "                                <br>\r\n",
      "                                    \r\n",
      "                                <br>\r\n",
      "                                In 1995, Kaczynski mailed several letters, some to his\r\n",
      "    former victims, outlining his goals. Kaczynski also sent a\r\n",
      "    letter to The New York Times on April 24, 1995, and promised\r\n",
      "    &ldquo;to desist from terrorism&rdquo; if the Times or The\r\n",
      "    Washington Post published his manifesto verbatim. In his\r\n",
      "    Industrial Society and Its Future (also called the\r\n",
      "    &ldquo;Unabomber Manifesto&rdquo;), he argued that his bombings\r\n",
      "    were extreme but necessary to attract attention to the erosion\r\n",
      "    of human freedom necessitated by modern technologies requiring\r\n",
      "    large-scale organization. There was a great deal of controversy\r\n",
      "    as to whether it should be done.\r\n",
      "    \r\n",
      "                                <br>\r\n",
      "                                    \r\n",
      "                                <br>\r\n",
      "                                A subsequent letter threatening to kill more people was\r\n",
      "    sent and the United States Department of Justice recommended\r\n",
      "    publication out of concern for public safety. The pamphlet was\r\n",
      "    then published by The New York Times and The Washington Post on\r\n",
      "    September 19, 1995, with the hope that someone would recognize\r\n",
      "    the writing style.\r\n",
      "    \r\n",
      "                                <br>\r\n",
      "                                    \r\n",
      "                                <br>\r\n",
      "                                Throughout the manuscript, produced on a typewriter\r\n",
      "    without the capacity for italics, Kaczynski capitalizes entire\r\n",
      "    words in order to show emphasis. He always refers to himself as\r\n",
      "    either &ldquo;we&rdquo; or &ldquo;FC&rdquo; (Freedom Club),\r\n",
      "    though he appears to have acted alone. Writer Henry Holt notes\r\n",
      "    that Kaczynski&rsquo;s writing, despite its irregular\r\n",
      "    hyphenation, is virtually free of any spelling or grammatical\r\n",
      "    error, in spite of its production on a manual typewriter\r\n",
      "    without the benefit of a word processor or spell-checker.\r\n",
      "    \r\n",
      "                                <br>\r\n",
      "                                    \r\n",
      "                                <br>\r\n",
      "                                Industrial Society and Its Future begins with\r\n",
      "    Kaczynski&rsquo;s assertion that &ldquo;the Industrial\r\n",
      "    Revolution and its consequences have been a disaster for the\r\n",
      "    human race.&rdquo; The first sections of the text are devoted\r\n",
      "    to psychological analyses of various groups&mdash;primarily\r\n",
      "    leftists and scientists&mdash;and of the psychological\r\n",
      "    consequences for the individual of life within the\r\n",
      "    &ldquo;industrial-technological system.&rdquo; The later\r\n",
      "    sections speculate about the future evolution of this system,\r\n",
      "    argue that it will inevitably lead to the end of human freedom,\r\n",
      "    call for a &ldquo;revolution against technology,&rdquo; and\r\n",
      "    attempt to indicate how that might be accomplished.</span>\r\n",
      "                        </content>\r\n",
      "                    </p>\r\n",
      "                </div>\r\n",
      "                <div class=\"fullEntry_related\"></div>\r\n",
      "                <div class=\"fullEntry_links\">\r\n",
      "                    <h2 class=\"fullEntry_sectionHeader\">External links</h2>\r\n",
      "                    <ul>\r\n",
      "                        <li>\r\n",
      "                            <a href=\"http://www.goodreads.com/book/title/The%20Unabomber%20Manifesto%3A%20Industrial%20Society%20and%20Its%20Future\">This book on Goodreads</a>\r\n",
      "                        </li>\r\n",
      "                        <li>\r\n",
      "                            <a href=\"http://en.wikipedia.org/wiki/The%20Unabomber%20Manifesto%3A%20Industrial%20Society%20and%20Its%20Future\">This book on Wikipedia</a>\r\n",
      "                        </li>\r\n",
      "                        <li>\r\n",
      "                            <a href=\"http://www.librarything.com/title/The%20Unabomber%20Manifesto%3A%20Industrial%20Society%20and%20Its%20Future%20Theodore%20Kaczynski\">This book on LibraryThing</a>\r\n",
      "                        </li>\r\n",
      "                        <li>\r\n",
      "                            <a href=\"http://www.amazon.com/gp/search/ref=sr_adv_b/?search-alias=stripbooks&amp;unfiltered=1&amp;sort=relevanceexprank&amp;field-title=The%20Unabomber%20Manifesto%3A%20Industrial%20Society%20and%20Its%20Future&amp;field-author=Theodore%20Kaczynski\">This book on Amazon</a>\r\n",
      "                        </li>\r\n",
      "                        <li>\r\n",
      "                            <a href=\"http://www.goodreads.com/book/author/Theodore%20Kaczynski\">Theodore Kaczynski on Goodreads</a>\r\n",
      "                        </li>\r\n",
      "                        <li>\r\n",
      "                            <a href=\"http://en.wikipedia.org/wiki/Theodore%20Kaczynski\">Theodore Kaczynski on Wikipedia</a>\r\n",
      "                        </li>\r\n",
      "                        <li>\r\n",
      "                            <a href=\"http://www.librarything.com/author/KaczynskiTheodore\">Theodore Kaczynski on LibraryThing</a>\r\n",
      "                        </li>\r\n",
      "                        <li>\r\n",
      "                            <a href=\"http://www.amazon.com/gp/search/ref=sr_adv_b/?search-alias=stripbooks&amp;unfiltered=1&amp;sort=relevanceexprank&amp;field-author=Theodore%20Kaczynski\">Theodore Kaczynski on Amazon</a>\r\n",
      "                        </li>\r\n",
      "                        <li>\r\n",
      "                            <a href=\"http://www.isfdb.org/cgi-bin/ea.cgi?Theodore%20Kaczynski\">Theodore Kaczynski on ISFDB</a>\r\n",
      "                        </li>\r\n",
      "                    </ul>\r\n",
      "                </div>\r\n",
      "            </div>\r\n",
      "        </div>\r\n",
      "        <div id=\"footer\">\r\n",
      "            <a class=\"noeffect\" href=\"http://snippetspace.com\">Powered by iWebKit</a>\r\n",
      "        </div>\r\n",
      "    </body>\r\n",
      "</html>\r\n"
     ]
    }
   ],
   "source": [
    "! cat $file"
   ]
  },
  {
   "cell_type": "code",
   "execution_count": 25,
   "metadata": {},
   "outputs": [
    {
     "name": "stdout",
     "output_type": "stream",
     "text": [
      "allbooks\t    _c2o_coverflowmode.dat  header.xsl\t\trecent\r\n",
      "allbooks.png\t    c2o.png\t\t    homeIwebKit.png\trecent.png\r\n",
      "author_0\t    catalog.xsl\t\t    home.png\t\tsearch\r\n",
      "authorlist\t    custom.png\t\t    index.html\t\tsearch.png\r\n",
      "authors.png\t    default_image.jpg\t    index.xml\t\tseries_0\r\n",
      "bc_bg.png\t    desktop.css\t\t    mimetypes.txt\tserieslist\r\n",
      "bc_separator.png    external.png\t    mobile.css\t\tseries.png\r\n",
      "bg_button_a.gif     featured.png\t    navleft.png\t\ttags.png\r\n",
      "bg_button_span.gif  fullentry.xsl\t    oval-red-left.gif\r\n",
      "book_0\t\t    functions.js\t    oval-red-right.gif\r\n",
      "c2o_cache\t    header.html\t\t    ratings.png\r\n"
     ]
    }
   ],
   "source": [
    "! ls docs/"
   ]
  },
  {
   "cell_type": "code",
   "execution_count": null,
   "metadata": {},
   "outputs": [],
   "source": []
  }
 ],
 "metadata": {
  "kernelspec": {
   "display_name": "Python 3",
   "language": "python",
   "name": "python3"
  },
  "language_info": {
   "codemirror_mode": {
    "name": "ipython",
    "version": 3
   },
   "file_extension": ".py",
   "mimetype": "text/x-python",
   "name": "python",
   "nbconvert_exporter": "python",
   "pygments_lexer": "ipython3",
   "version": "3.6.9"
  }
 },
 "nbformat": 4,
 "nbformat_minor": 4
}
